{
 "cells": [
  {
   "cell_type": "markdown",
   "metadata": {},
   "source": [
    "# Grouping\n"
   ]
  },
  {
   "cell_type": "code",
   "execution_count": 96,
   "metadata": {},
   "outputs": [],
   "source": [
    "import pandas as pd"
   ]
  },
  {
   "cell_type": "code",
   "execution_count": null,
   "metadata": {},
   "outputs": [],
   "source": [
    "drinks = pd.read_csv(\"./data/drinks.csv\")\n",
    "drinks.head()"
   ]
  },
  {
   "cell_type": "code",
   "execution_count": null,
   "metadata": {},
   "outputs": [],
   "source": [
    "# Inspecting data to see if there are any missing values.  (Yes, there are)\n",
    "drinks.info()"
   ]
  },
  {
   "cell_type": "code",
   "execution_count": null,
   "metadata": {},
   "outputs": [],
   "source": [
    "# Inspect the missing rows\n",
    "filt = drinks.isna().any(axis=1)\n",
    "drinks[filt]"
   ]
  },
  {
   "cell_type": "code",
   "execution_count": null,
   "metadata": {},
   "outputs": [],
   "source": [
    "# Fill the missing values with the default string\n",
    "drinks[\"continent\"] = drinks[\"continent\"].fillna(\"UNKNOWN\")\n",
    "drinks.info()"
   ]
  },
  {
   "cell_type": "code",
   "execution_count": 101,
   "metadata": {},
   "outputs": [],
   "source": [
    "drinks_grouped = drinks.groupby(\"continent\")"
   ]
  },
  {
   "cell_type": "code",
   "execution_count": null,
   "metadata": {},
   "outputs": [],
   "source": [
    "# Get the number of groups\n",
    "drinks_grouped.ngroups"
   ]
  },
  {
   "cell_type": "code",
   "execution_count": null,
   "metadata": {},
   "outputs": [],
   "source": [
    "# Get the number of rows in each group\n",
    "drinks_grouped.size()\n",
    "\n",
    "# Another way to get the number of rows in each group.\n",
    "# The aggregate function .count() counts only the non-null values from each column, \n",
    "# whereas .size() simply returns the number of rows available in each group irrespective of presence or absence of values.\n",
    "\n",
    "# drinks_grouped.count()"
   ]
  },
  {
   "cell_type": "code",
   "execution_count": null,
   "metadata": {},
   "outputs": [],
   "source": [
    "# Get the number of unique values in each column for each continent\n",
    "drinks_grouped[[\"beer_servings\"]].nunique()\n",
    "\n",
    "# Notice the difference in output from this command will be Series.\n",
    "# drinks_grouped[\"beer_servings\"].nunique()\n"
   ]
  },
  {
   "cell_type": "code",
   "execution_count": null,
   "metadata": {},
   "outputs": [],
   "source": [
    "# Sample a row from each group\n",
    "# drinks_grouped.first()\n",
    "# drinks_grouped.last()\n",
    "\n",
    "# Get the second row from each group\n",
    "drinks_grouped.nth(1)\n"
   ]
  },
  {
   "cell_type": "code",
   "execution_count": null,
   "metadata": {},
   "outputs": [],
   "source": [
    "# Get the mean of beer_servings for each continent\n",
    "drinks_grouped[[\"beer_servings\"]].mean()"
   ]
  },
  {
   "cell_type": "code",
   "execution_count": null,
   "metadata": {},
   "outputs": [],
   "source": [
    "# Get the group \"AF\"\n",
    "drinks_grouped.get_group(\"AF\").head()"
   ]
  },
  {
   "cell_type": "code",
   "execution_count": null,
   "metadata": {},
   "outputs": [],
   "source": [
    "# Get the first group\n",
    "group_list = list(drinks_grouped.groups.keys())\n",
    "drinks_grouped.get_group(group_list[0]).head()"
   ]
  },
  {
   "cell_type": "code",
   "execution_count": null,
   "metadata": {},
   "outputs": [],
   "source": [
    "# Loop through the groups\n",
    "for key, group in drinks_grouped:\n",
    "    print(key)\n",
    "    display(group.head(1))"
   ]
  },
  {
   "cell_type": "code",
   "execution_count": null,
   "metadata": {},
   "outputs": [],
   "source": [
    "# Get the mean of beer_servings and wine_servings for each continent\n",
    "drinks_grouped[[\"beer_servings\", \"wine_servings\"]].mean()"
   ]
  },
  {
   "cell_type": "code",
   "execution_count": null,
   "metadata": {},
   "outputs": [],
   "source": [
    "# Get the stats of wine_serveing for each continent\n",
    "drinks_grouped[[\"wine_servings\"]].describe()"
   ]
  },
  {
   "cell_type": "code",
   "execution_count": null,
   "metadata": {},
   "outputs": [],
   "source": [
    "# Get the stats of beer_servings and wine_servings for each continent\n",
    "drinks_grouped[[\"beer_servings\", \"wine_servings\"]].agg([\"mean\", \"min\", \"max\", \"median\"])"
   ]
  },
  {
   "cell_type": "code",
   "execution_count": null,
   "metadata": {},
   "outputs": [],
   "source": [
    "# Get the stats of all columns for each continent\n",
    "drinks_grouped.agg(\n",
    "    {\n",
    "        \"beer_servings\": [\"min\", \"max\"],\n",
    "        \"wine_servings\": [\"mean\", \"median\"],\n",
    "        \"spirit_servings\": [\"mean\", \"median\"],\n",
    "        \"total_litres_of_pure_alcohol\": [\"mean\", \"min\"],\n",
    "        \"country\": [\"count\"],\n",
    "    }\n",
    ")\n"
   ]
  }
 ],
 "metadata": {
  "kernelspec": {
   "display_name": "Python 3",
   "language": "python",
   "name": "python3"
  },
  "language_info": {
   "codemirror_mode": {
    "name": "ipython",
    "version": 3
   },
   "file_extension": ".py",
   "mimetype": "text/x-python",
   "name": "python",
   "nbconvert_exporter": "python",
   "pygments_lexer": "ipython3",
   "version": "3.12.8"
  },
  "toc": {
   "base_numbering": 1,
   "nav_menu": {},
   "number_sections": true,
   "sideBar": true,
   "skip_h1_title": false,
   "title_cell": "Table of Contents",
   "title_sidebar": "Contents",
   "toc_cell": false,
   "toc_position": {},
   "toc_section_display": true,
   "toc_window_display": false
  }
 },
 "nbformat": 4,
 "nbformat_minor": 1
}
