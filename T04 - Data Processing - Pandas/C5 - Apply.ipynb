{
 "cells": [
  {
   "cell_type": "markdown",
   "metadata": {},
   "source": [
    "# Apply\n"
   ]
  },
  {
   "cell_type": "code",
   "execution_count": 1,
   "metadata": {
    "collapsed": false
   },
   "outputs": [],
   "source": [
    "import pandas as pd"
   ]
  },
  {
   "cell_type": "markdown",
   "metadata": {},
   "source": [
    "## Primer\n"
   ]
  },
  {
   "cell_type": "code",
   "execution_count": null,
   "metadata": {},
   "outputs": [],
   "source": [
    "df = pd.DataFrame(\n",
    "    {\n",
    "        \"Name\": [\"John\", \"Rock\", \"Neil\", \"Tom\"],\n",
    "        \"Group\": [\n",
    "            \"A\",\n",
    "            \"A\",\n",
    "            \"B\",\n",
    "            \"B\",\n",
    "        ],\n",
    "        \"Marks\": [78, 66, 55, 42],\n",
    "    }\n",
    ")\n",
    "display(df)"
   ]
  },
  {
   "cell_type": "code",
   "execution_count": null,
   "metadata": {},
   "outputs": [],
   "source": [
    "# Create a new column \"Marks (%)\" which contains the marks in percentage\n",
    "def make_percent(val):\n",
    "    return str(val) + \"%\"\n",
    "\n",
    "\n",
    "df[\"Marks (%)\"] = df[\"Marks\"].apply(make_percent)\n",
    "\n",
    "display(df)"
   ]
  },
  {
   "cell_type": "code",
   "execution_count": null,
   "metadata": {},
   "outputs": [],
   "source": [
    "# Create a new column \"Pass\" which contains True if the student has passed the exam, False otherwise\n",
    "# A student is considered to be passed if he/she has scored 70 or more marks in group A and 50 or more marks in group B.\n",
    "\n",
    "\n",
    "def is_pass(row):\n",
    "    group = row[\"Group\"]\n",
    "    marks = row[\"Marks\"]\n",
    "    if group == \"A\":\n",
    "        return marks >= 70\n",
    "    else:\n",
    "        return marks >= 50\n",
    "\n",
    "\n",
    "df[\"Pass\"] = df.apply(is_pass, axis=1)\n",
    "display(df)"
   ]
  },
  {
   "cell_type": "markdown",
   "metadata": {},
   "source": [
    "## Real Data\n"
   ]
  },
  {
   "cell_type": "code",
   "execution_count": null,
   "metadata": {
    "collapsed": false,
    "scrolled": false
   },
   "outputs": [],
   "source": [
    "df_raw = pd.read_csv(\"./data/student_mat.csv\")\n",
    "df_raw.head()"
   ]
  },
  {
   "cell_type": "code",
   "execution_count": null,
   "metadata": {},
   "outputs": [],
   "source": [
    "df_raw.info()"
   ]
  },
  {
   "cell_type": "code",
   "execution_count": null,
   "metadata": {
    "collapsed": false
   },
   "outputs": [],
   "source": [
    "# For the purpose of this exercise slice the dataframe from 'school' until the 'guardian' column\n",
    "df_stu = df_raw.loc[:, \"school\":\"guardian\"]\n",
    "df_stu.head()"
   ]
  },
  {
   "cell_type": "code",
   "execution_count": null,
   "metadata": {
    "collapsed": false
   },
   "outputs": [],
   "source": [
    "# Create a function that will capitalize strings\n",
    "def capitalizer(val):\n",
    "    return val.upper()\n",
    "\n",
    "\n",
    "df_stu[\"Mjob\"] = df_stu[\"Mjob\"].apply(capitalizer)\n",
    "df_stu[\"Fjob\"] = df_stu[\"Fjob\"].apply(capitalizer)\n",
    "\n",
    "df_stu.head()"
   ]
  },
  {
   "cell_type": "code",
   "execution_count": null,
   "metadata": {
    "collapsed": false
   },
   "outputs": [],
   "source": [
    "# Create a function called majority that returns a boolean value to a new column called legal_drinker\n",
    "def is_legan_drinker(x):\n",
    "    if x > 17:\n",
    "        return True\n",
    "    else:\n",
    "        return False\n",
    "\n",
    "\n",
    "df_stu[\"legal_drinker\"] = df_stu[\"age\"].apply(is_legan_drinker)\n",
    "df_stu.head()"
   ]
  },
  {
   "cell_type": "code",
   "execution_count": null,
   "metadata": {},
   "outputs": [],
   "source": [
    "# Create a new column called category that will be calculated based on the age and sex of each student.\n",
    "def categorize_by_age_and_sex(row):\n",
    "    sex = row[\"sex\"]\n",
    "    age = row[\"age\"]\n",
    "    if age < 18:\n",
    "        if sex == \"F\":\n",
    "            return \"Underage Female\"\n",
    "        else:\n",
    "            return \"Underage Male\"\n",
    "    else:\n",
    "        if sex == \"F\":\n",
    "            return \"Adult Female\"\n",
    "        else:\n",
    "            return \"Adult Male\"\n",
    "\n",
    "\n",
    "df_stu[\"category\"] = df_stu.apply(categorize_by_age_and_sex, axis=1)\n",
    "\n",
    "df_stu[[\"sex\", \"age\", \"category\"]].head(10)"
   ]
  },
  {
   "cell_type": "code",
   "execution_count": null,
   "metadata": {},
   "outputs": [],
   "source": [
    "df_stu.head()"
   ]
  },
  {
   "cell_type": "markdown",
   "metadata": {},
   "source": [
    "### Apply with groupby"
   ]
  },
  {
   "cell_type": "code",
   "execution_count": 12,
   "metadata": {},
   "outputs": [],
   "source": [
    "# Group by category\n",
    "df_stu_group = df_stu.groupby(\"category\")"
   ]
  },
  {
   "cell_type": "code",
   "execution_count": null,
   "metadata": {},
   "outputs": [],
   "source": [
    "df_stu_group.size()"
   ]
  },
  {
   "cell_type": "code",
   "execution_count": null,
   "metadata": {},
   "outputs": [],
   "source": [
    "df_stu_group.nunique()"
   ]
  },
  {
   "cell_type": "code",
   "execution_count": null,
   "metadata": {},
   "outputs": [],
   "source": [
    "# Calculate average age of teacher and others\n",
    "def average_age_of_teacher(df):\n",
    "    filt_teacher = df[\"Fjob\"] == \"TEACHER\"\n",
    "    mean_age_teacher = df.loc[filt_teacher, \"age\"].mean()\n",
    "    mean_age_not_techer = df.loc[~filt_teacher, \"age\"].mean()\n",
    "    return pd.Series(\n",
    "        {\"Mean Age Techer\": mean_age_teacher, \"Mean Age Not Teacher\": mean_age_not_techer}\n",
    "    )\n",
    "\n",
    "# For testing\n",
    "# group_list = list(df_stu_group.groups.keys())\n",
    "# df = df_stu_group.get_group(group_list[0])\n",
    "# filt_teacher = df[\"Fjob\"] == \"TEACHER\"\n",
    "# mean_age_teacher = df.loc[filt_teacher, \"age\"].mean()\n",
    "# mean_age_not_techer = df.loc[~filt_teacher, \"age\"].mean()\n",
    "# pd.Series(\n",
    "#     {\"Mean Age Techer\": mean_age_teacher, \"Mean Age Not Teacher\": mean_age_not_techer}\n",
    "# )\n",
    "\n",
    "# Real operation\n",
    "df_stu_group.apply(average_age_of_teacher, include_groups=False)\n"
   ]
  }
 ],
 "metadata": {
  "anaconda-cloud": {},
  "kernelspec": {
   "display_name": "venv",
   "language": "python",
   "name": "python3"
  },
  "language_info": {
   "codemirror_mode": {
    "name": "ipython",
    "version": 3
   },
   "file_extension": ".py",
   "mimetype": "text/x-python",
   "name": "python",
   "nbconvert_exporter": "python",
   "pygments_lexer": "ipython3",
   "version": "3.12.7"
  }
 },
 "nbformat": 4,
 "nbformat_minor": 0
}
