{
 "cells": [
  {
   "cell_type": "markdown",
   "id": "happy-roulette",
   "metadata": {},
   "source": [
    "# Data Visualization with Pandas - Part 1"
   ]
  },
  {
   "cell_type": "code",
   "execution_count": 69,
   "id": "desperate-ranking",
   "metadata": {},
   "outputs": [],
   "source": [
    "import matplotlib.pyplot as plt\n",
    "import numpy as np\n",
    "import pandas as pd\n",
    "import seaborn as sns\n",
    "sns.set_theme()"
   ]
  },
  {
   "cell_type": "markdown",
   "id": "adjacent-ground",
   "metadata": {},
   "source": [
    "## Plotting graph with plot() method"
   ]
  },
  {
   "cell_type": "code",
   "execution_count": 70,
   "id": "expired-nickel",
   "metadata": {},
   "outputs": [],
   "source": [
    "data=pd.Series(np.random.randn(1000).cumsum())"
   ]
  },
  {
   "cell_type": "code",
   "execution_count": null,
   "id": "effective-training",
   "metadata": {},
   "outputs": [],
   "source": [
    "data.plot()"
   ]
  },
  {
   "cell_type": "code",
   "execution_count": 72,
   "id": "refined-brass",
   "metadata": {},
   "outputs": [],
   "source": [
    "df1 = pd.DataFrame(np.random.randn(100, 4),columns=list('ABCD'))\n"
   ]
  },
  {
   "cell_type": "code",
   "execution_count": null,
   "id": "fluid-figure",
   "metadata": {},
   "outputs": [],
   "source": [
    "df1 = df1.cumsum()\n",
    "df1.head()"
   ]
  },
  {
   "cell_type": "code",
   "execution_count": null,
   "id": "tracked-creativity",
   "metadata": {},
   "outputs": [],
   "source": [
    "df1.plot()"
   ]
  },
  {
   "cell_type": "markdown",
   "id": "endangered-fountain",
   "metadata": {},
   "source": [
    "## Bar Charts"
   ]
  },
  {
   "cell_type": "code",
   "execution_count": null,
   "id": "typical-simulation",
   "metadata": {},
   "outputs": [],
   "source": [
    "df1.iloc[10].plot(kind='bar')"
   ]
  },
  {
   "cell_type": "code",
   "execution_count": null,
   "id": "worst-atlas",
   "metadata": {},
   "outputs": [],
   "source": [
    "df1.iloc[10].plot.bar()"
   ]
  },
  {
   "cell_type": "code",
   "execution_count": null,
   "id": "quick-bronze",
   "metadata": {},
   "outputs": [],
   "source": [
    "df2=pd.DataFrame(np.random.rand(7,3), columns=list(\"ABC\"))\n",
    "df2.head()"
   ]
  },
  {
   "cell_type": "code",
   "execution_count": null,
   "id": "comparative-seeking",
   "metadata": {},
   "outputs": [],
   "source": [
    "df2.plot.bar()"
   ]
  },
  {
   "cell_type": "code",
   "execution_count": null,
   "id": "hungry-might",
   "metadata": {},
   "outputs": [],
   "source": [
    "df2.plot.bar(stacked=True)"
   ]
  },
  {
   "cell_type": "code",
   "execution_count": null,
   "id": "scenic-headquarters",
   "metadata": {},
   "outputs": [],
   "source": [
    "df2.plot.barh(stacked=True)"
   ]
  },
  {
   "cell_type": "markdown",
   "id": "referenced-gospel",
   "metadata": {},
   "source": [
    "## Histograms"
   ]
  },
  {
   "cell_type": "code",
   "execution_count": 81,
   "id": "equivalent-registration",
   "metadata": {},
   "outputs": [],
   "source": [
    "iris=pd.read_csv(\"./data/iris.data\", header=None)\n",
    "iris.columns=[\"sepal_length\",\"sepal_width\", \"petal_length\", \n",
    "              \"petal_width\", \"species\"]"
   ]
  },
  {
   "cell_type": "code",
   "execution_count": null,
   "id": "quality-police",
   "metadata": {},
   "outputs": [],
   "source": [
    "iris.head()"
   ]
  },
  {
   "cell_type": "code",
   "execution_count": null,
   "id": "everyday-august",
   "metadata": {},
   "outputs": [],
   "source": [
    "iris.plot.hist(alpha=0.7)"
   ]
  },
  {
   "cell_type": "code",
   "execution_count": null,
   "id": "assured-application",
   "metadata": {},
   "outputs": [],
   "source": [
    "iris.plot.hist(alpha=1, stacked=True)"
   ]
  },
  {
   "cell_type": "code",
   "execution_count": null,
   "id": "tender-formula",
   "metadata": {},
   "outputs": [],
   "source": [
    "iris.plot.hist(alpha=1, stacked=True, bins=25)"
   ]
  },
  {
   "cell_type": "code",
   "execution_count": null,
   "id": "conditional-forwarding",
   "metadata": {},
   "outputs": [],
   "source": [
    "iris[\"sepal_width\"].plot.hist(orientation=\"horizontal\")"
   ]
  },
  {
   "cell_type": "code",
   "execution_count": null,
   "id": "virtual-organizer",
   "metadata": {},
   "outputs": [],
   "source": [
    "iris[\"sepal_length\"].diff().hist()"
   ]
  },
  {
   "cell_type": "code",
   "execution_count": null,
   "id": "protected-botswana",
   "metadata": {},
   "outputs": [],
   "source": [
    "iris.hist(color=\"steelblue\", alpha=1, bins=20)"
   ]
  },
  {
   "cell_type": "code",
   "execution_count": null,
   "id": "empty-guyana",
   "metadata": {},
   "outputs": [],
   "source": [
    "iris.hist(\"petal_length\",by=\"species\")"
   ]
  },
  {
   "cell_type": "markdown",
   "id": "blessed-decade",
   "metadata": {},
   "source": [
    "## Boxplot charts"
   ]
  },
  {
   "cell_type": "code",
   "execution_count": null,
   "id": "iraqi-jonathan",
   "metadata": {},
   "outputs": [],
   "source": [
    "iris.plot.box() "
   ]
  },
  {
   "cell_type": "code",
   "execution_count": 91,
   "id": "usual-chase",
   "metadata": {},
   "outputs": [],
   "source": [
    "colors={'boxes': 'Red', 'whiskers': 'blue','medians': 'Black', 'caps': 'Green'}"
   ]
  },
  {
   "cell_type": "code",
   "execution_count": null,
   "id": "portuguese-village",
   "metadata": {},
   "outputs": [],
   "source": [
    "iris.plot.box(color=colors)"
   ]
  },
  {
   "cell_type": "code",
   "execution_count": null,
   "id": "contrary-country",
   "metadata": {},
   "outputs": [],
   "source": [
    "iris.plot.box(vert=False)"
   ]
  },
  {
   "cell_type": "code",
   "execution_count": null,
   "id": "behind-sussex",
   "metadata": {},
   "outputs": [],
   "source": [
    "iris.boxplot()"
   ]
  },
  {
   "cell_type": "code",
   "execution_count": null,
   "id": "imperial-chapter",
   "metadata": {},
   "outputs": [],
   "source": [
    "plt.rcParams[\"figure.figsize\"]=(8,8)\n",
    "plt.style.use(\"ggplot\")\n",
    "iris.boxplot(by='species')"
   ]
  }
 ],
 "metadata": {
  "kernelspec": {
   "display_name": "Python 3",
   "language": "python",
   "name": "python3"
  },
  "language_info": {
   "codemirror_mode": {
    "name": "ipython",
    "version": 3
   },
   "file_extension": ".py",
   "mimetype": "text/x-python",
   "name": "python",
   "nbconvert_exporter": "python",
   "pygments_lexer": "ipython3",
   "version": "3.12.8"
  }
 },
 "nbformat": 4,
 "nbformat_minor": 5
}
