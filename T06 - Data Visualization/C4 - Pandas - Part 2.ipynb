{
 "cells": [
  {
   "cell_type": "markdown",
   "id": "norman-jacob",
   "metadata": {},
   "source": [
    "# Data Visualization with Pandas - Part 2"
   ]
  },
  {
   "cell_type": "code",
   "execution_count": 36,
   "id": "complex-fluid",
   "metadata": {},
   "outputs": [],
   "source": [
    "import numpy as np\n",
    "import pandas as pd\n",
    "import seaborn as sns\n",
    "sns.set_theme()"
   ]
  },
  {
   "cell_type": "markdown",
   "id": "together-arthritis",
   "metadata": {},
   "source": [
    "## Area Charts"
   ]
  },
  {
   "cell_type": "code",
   "execution_count": null,
   "id": "consecutive-breathing",
   "metadata": {},
   "outputs": [],
   "source": [
    "df = pd.DataFrame(np.random.rand(10, 4), columns=list(\"ABCD\"))\n",
    "df.head()"
   ]
  },
  {
   "cell_type": "code",
   "execution_count": null,
   "id": "ambient-defense",
   "metadata": {},
   "outputs": [],
   "source": [
    "df[\"A\"].plot.area()"
   ]
  },
  {
   "cell_type": "code",
   "execution_count": null,
   "id": "micro-fossil",
   "metadata": {},
   "outputs": [],
   "source": [
    "df.plot.area()"
   ]
  },
  {
   "cell_type": "code",
   "execution_count": null,
   "id": "offensive-picking",
   "metadata": {},
   "outputs": [],
   "source": [
    "df.plot.area(stacked=False)"
   ]
  },
  {
   "cell_type": "code",
   "execution_count": 41,
   "id": "psychological-skiing",
   "metadata": {},
   "outputs": [],
   "source": [
    "iris=pd.read_csv(\"./data/iris.data\", header=None)\n",
    "iris.columns=[\"sepal_length\",\"sepal_width\", \"petal_length\", \n",
    "              \"petal_width\", \"species\"]"
   ]
  },
  {
   "cell_type": "code",
   "execution_count": null,
   "id": "brilliant-conservative",
   "metadata": {},
   "outputs": [],
   "source": [
    "iris.dtypes"
   ]
  },
  {
   "cell_type": "code",
   "execution_count": null,
   "id": "actual-engineer",
   "metadata": {},
   "outputs": [],
   "source": [
    "iris.plot.area()"
   ]
  },
  {
   "cell_type": "code",
   "execution_count": null,
   "id": "accessible-generator",
   "metadata": {},
   "outputs": [],
   "source": [
    "iris.plot.area(stacked=False)"
   ]
  },
  {
   "cell_type": "markdown",
   "id": "chronic-alexandria",
   "metadata": {},
   "source": [
    "## Scatter Plots"
   ]
  },
  {
   "cell_type": "code",
   "execution_count": null,
   "id": "vocational-oracle",
   "metadata": {},
   "outputs": [],
   "source": [
    "df.plot.scatter(x='A', y='B')"
   ]
  },
  {
   "cell_type": "code",
   "execution_count": 46,
   "id": "imported-assignment",
   "metadata": {},
   "outputs": [],
   "source": [
    "movies=pd.read_csv(\"./data/imdbratings.txt\")"
   ]
  },
  {
   "cell_type": "code",
   "execution_count": null,
   "id": "different-roller",
   "metadata": {},
   "outputs": [],
   "source": [
    "movies.head()"
   ]
  },
  {
   "cell_type": "code",
   "execution_count": null,
   "id": "affecting-validation",
   "metadata": {},
   "outputs": [],
   "source": [
    "movies.dtypes"
   ]
  },
  {
   "cell_type": "code",
   "execution_count": null,
   "id": "affected-sleeve",
   "metadata": {},
   "outputs": [],
   "source": [
    "movies.plot.scatter(x='star_rating', y='duration')"
   ]
  },
  {
   "cell_type": "code",
   "execution_count": null,
   "id": "wrapped-overview",
   "metadata": {},
   "outputs": [],
   "source": [
    "ax=iris.plot.scatter(x='sepal_length', y='sepal_width', \n",
    "                     color='Blue', label='sepal')\n",
    "iris.plot.scatter(x='petal_length', y='petal_width', color='red', \n",
    "                  label='petal', ax=ax)"
   ]
  },
  {
   "cell_type": "code",
   "execution_count": null,
   "id": "shared-imperial",
   "metadata": {},
   "outputs": [],
   "source": [
    "iris.plot.scatter(x='sepal_length', y='sepal_width', \n",
    "                  c='petal_length', s=100)"
   ]
  },
  {
   "cell_type": "code",
   "execution_count": null,
   "id": "established-egypt",
   "metadata": {},
   "outputs": [],
   "source": [
    "iris.plot.scatter(x='sepal_length', y='sepal_width', \n",
    "                  s=iris['petal_length'] * 50)"
   ]
  },
  {
   "cell_type": "markdown",
   "id": "indoor-publicity",
   "metadata": {},
   "source": [
    "## Hexagonal bin charts"
   ]
  },
  {
   "cell_type": "code",
   "execution_count": null,
   "id": "widespread-rwanda",
   "metadata": {},
   "outputs": [],
   "source": [
    "movies.plot.hexbin(x=\"star_rating\", y=\"duration\", gridsize=25)"
   ]
  },
  {
   "cell_type": "code",
   "execution_count": null,
   "id": "sustainable-madagascar",
   "metadata": {},
   "outputs": [],
   "source": [
    "movies.plot.hexbin(x=\"star_rating\", y=\"duration\", gridsize=10)"
   ]
  },
  {
   "cell_type": "markdown",
   "id": "electric-warner",
   "metadata": {},
   "source": [
    "## Pie Charts"
   ]
  },
  {
   "cell_type": "code",
   "execution_count": null,
   "id": "broken-anderson",
   "metadata": {},
   "outputs": [],
   "source": [
    "iris_avg=iris[\"petal_width\"].groupby(iris[\"species\"]).mean()\n",
    "iris_avg"
   ]
  },
  {
   "cell_type": "code",
   "execution_count": null,
   "id": "double-reproduction",
   "metadata": {},
   "outputs": [],
   "source": [
    "iris_avg.plot.pie()"
   ]
  },
  {
   "cell_type": "code",
   "execution_count": 57,
   "id": "normal-identifier",
   "metadata": {},
   "outputs": [],
   "source": [
    "iris_avg_2=iris[[\"petal_width\", \n",
    "                 \"petal_length\"]].groupby(iris[\"species\"]).mean()"
   ]
  },
  {
   "cell_type": "code",
   "execution_count": null,
   "id": "advisory-plain",
   "metadata": {},
   "outputs": [],
   "source": [
    "iris_avg_2.plot.pie(subplots=True)"
   ]
  },
  {
   "cell_type": "code",
   "execution_count": null,
   "id": "auburn-brunswick",
   "metadata": {},
   "outputs": [],
   "source": [
    "iris_avg.plot.pie()"
   ]
  },
  {
   "cell_type": "code",
   "execution_count": null,
   "id": "unlimited-hungarian",
   "metadata": {},
   "outputs": [],
   "source": [
    "iris_avg.plot.pie(labels=[\"setosa\",\"versicolor\", \"virginica\"], \n",
    "                  colors=list(\"brg\"), fontsize=25, figsize=(10,10))"
   ]
  },
  {
   "cell_type": "code",
   "execution_count": null,
   "id": "drawn-frontier",
   "metadata": {},
   "outputs": [],
   "source": [
    "iris_avg.plot.pie(labels=[\"setosa\",\"versicolor\", \"virginica\"], colors=list(\"brg\"), \n",
    "           autopct='%.2f', fontsize=25, figsize=(10,10))"
   ]
  },
  {
   "cell_type": "markdown",
   "id": "duplicate-ballet",
   "metadata": {},
   "source": [
    "## Density chart"
   ]
  },
  {
   "cell_type": "code",
   "execution_count": null,
   "id": "fiscal-playlist",
   "metadata": {},
   "outputs": [],
   "source": [
    "iris.plot.kde()"
   ]
  },
  {
   "cell_type": "markdown",
   "id": "visible-tuning",
   "metadata": {},
   "source": [
    "## Scatter matrix "
   ]
  },
  {
   "cell_type": "code",
   "execution_count": 63,
   "id": "distinct-respect",
   "metadata": {},
   "outputs": [],
   "source": [
    "from pandas.plotting import scatter_matrix"
   ]
  },
  {
   "cell_type": "code",
   "execution_count": null,
   "id": "alpine-minneapolis",
   "metadata": {},
   "outputs": [],
   "source": [
    "scatter_matrix(movies, alpha=0.5, diagonal='kde')"
   ]
  }
 ],
 "metadata": {
  "kernelspec": {
   "display_name": "Python 3",
   "language": "python",
   "name": "python3"
  },
  "language_info": {
   "codemirror_mode": {
    "name": "ipython",
    "version": 3
   },
   "file_extension": ".py",
   "mimetype": "text/x-python",
   "name": "python",
   "nbconvert_exporter": "python",
   "pygments_lexer": "ipython3",
   "version": "3.12.8"
  }
 },
 "nbformat": 4,
 "nbformat_minor": 5
}
