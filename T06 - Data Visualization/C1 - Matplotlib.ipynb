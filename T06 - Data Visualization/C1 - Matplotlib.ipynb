{
 "cells": [
  {
   "cell_type": "markdown",
   "id": "packed-journalism",
   "metadata": {},
   "source": [
    "# Matplotlib\n"
   ]
  },
  {
   "cell_type": "code",
   "execution_count": 73,
   "id": "surgical-forty",
   "metadata": {},
   "outputs": [],
   "source": [
    "import matplotlib.pyplot as plt\n",
    "import numpy as np"
   ]
  },
  {
   "cell_type": "code",
   "execution_count": null,
   "id": "multiple-conducting",
   "metadata": {},
   "outputs": [],
   "source": [
    "data = np.arange(10)\n",
    "\n",
    "plt.plot(data)\n",
    "plt.title(\"My Plot\")\n",
    "plt.xlabel(\"X\")\n",
    "plt.ylabel(\"Y\")"
   ]
  },
  {
   "cell_type": "code",
   "execution_count": null,
   "id": "returning-whale",
   "metadata": {},
   "outputs": [],
   "source": [
    "x = np.arange(start=0, stop=3 * np.pi, step=0.1)\n",
    "y = np.sin(x)\n",
    "\n",
    "plt.plot(x, y)"
   ]
  },
  {
   "cell_type": "code",
   "execution_count": null,
   "id": "8dcc798c",
   "metadata": {},
   "outputs": [],
   "source": [
    "y_sin = np.sin(x)\n",
    "y_cos = np.cos(x)\n",
    "\n",
    "plt.plot(x, y_sin)\n",
    "plt.plot(x, y_cos)\n",
    "plt.xlabel(\"x axis\")\n",
    "plt.ylabel(\"y axis\")\n",
    "plt.legend([\"Sine\", \"Cosine\"])\n",
    "plt.title(\"Sine and Cosine\")"
   ]
  },
  {
   "cell_type": "code",
   "execution_count": null,
   "id": "compact-participant",
   "metadata": {},
   "outputs": [],
   "source": [
    "y_sin = np.sin(x)\n",
    "y_cos = np.cos(x)\n",
    "\n",
    "plt.plot(x, y_sin, \"*-\")\n",
    "plt.plot(x, y_cos, \"--s\")\n",
    "plt.xlabel(\"x axis\")\n",
    "plt.ylabel(\"y axis\")\n",
    "plt.legend([\"Sine\", \"Cosine\"])\n",
    "plt.title(\"Sine and Cosine\")\n"
   ]
  },
  {
   "cell_type": "code",
   "execution_count": null,
   "id": "8108e16a",
   "metadata": {},
   "outputs": [],
   "source": [
    "# Compute the x and y coordinates for points on sine and cosine curves\n",
    "x = np.arange(0, 3 * np.pi, 0.1)\n",
    "y_sin = np.sin(x)\n",
    "y_cos = np.cos(x)\n",
    "\n",
    "# Set up a subplot grid that has height 2 and width 1,\n",
    "# and set the first such subplot as active.\n",
    "plt.subplot(2,2, 1)\n",
    "\n",
    "# Make the first plot\n",
    "plt.plot(x, y_sin)\n",
    "plt.title('Sine')\n",
    "\n",
    "# Set the second subplot as active, and make the second plot.\n",
    "plt.subplot(2,2, 4)\n",
    "\n",
    "# Show the figure.\n",
    "plt.plot(x, y_cos)\n",
    "plt.title('Cosine')"
   ]
  },
  {
   "cell_type": "code",
   "execution_count": null,
   "id": "5547ec56",
   "metadata": {},
   "outputs": [],
   "source": [
    "# Compute the x and y coordinates for points on sine and cosine curves\n",
    "x = np.arange(0, 3 * np.pi, 0.1)\n",
    "y_sin = np.sin(x)\n",
    "y_cos = np.cos(x)\n",
    "\n",
    "# Set up a subplot grid that has height 2 and width 1,\n",
    "# and set the first such subplot as active.\n",
    "plt.subplot(3,1, 1)\n",
    "\n",
    "# Make the first plot\n",
    "plt.plot(x, y_sin)\n",
    "plt.title('Sine')\n",
    "\n",
    "# Set the second subplot as active, and make the second plot.\n",
    "plt.subplot(3,1, 2)\n",
    "\n",
    "# Show the figure.\n",
    "plt.plot(x, y_cos)\n",
    "plt.title('Cosine')\n",
    "\n",
    "\n",
    "# Set the second subplot as active, and make the second plot.\n",
    "plt.subplot(3,1, 3)\n",
    "\n",
    "# Show the figure.\n",
    "plt.plot(x, y_cos+y_sin)\n",
    "plt.title('Cosine')"
   ]
  },
  {
   "cell_type": "markdown",
   "id": "divine-independence",
   "metadata": {},
   "source": [
    "## Save the Graph\n"
   ]
  },
  {
   "cell_type": "code",
   "execution_count": null,
   "id": "opposite-health",
   "metadata": {},
   "outputs": [],
   "source": [
    "y_sin = np.sin(x)\n",
    "y_cos = np.cos(x)\n",
    "\n",
    "plt.plot(x, y_sin, \"*-\")\n",
    "plt.plot(x, y_cos, \"--s\")\n",
    "plt.xlabel(\"x axis\")\n",
    "plt.ylabel(\"y axis\")\n",
    "plt.legend([\"Sine\", \"Cosine\"])\n",
    "plt.title(\"Sine and Cosine\")\n",
    "\n",
    "plt.savefig(\"myplot.png\", dpi=400, bbox_inches=\"tight\")"
   ]
  }
 ],
 "metadata": {
  "kernelspec": {
   "display_name": "Python 3",
   "language": "python",
   "name": "python3"
  },
  "language_info": {
   "codemirror_mode": {
    "name": "ipython",
    "version": 3
   },
   "file_extension": ".py",
   "mimetype": "text/x-python",
   "name": "python",
   "nbconvert_exporter": "python",
   "pygments_lexer": "ipython3",
   "version": "3.12.8"
  }
 },
 "nbformat": 4,
 "nbformat_minor": 5
}
