{
 "cells": [
  {
   "cell_type": "markdown",
   "id": "documented-squad",
   "metadata": {},
   "source": [
    "# Seaborn\n"
   ]
  },
  {
   "cell_type": "markdown",
   "id": "running-robinson",
   "metadata": {},
   "source": [
    "### Seaborn vs Matplotlib\n"
   ]
  },
  {
   "cell_type": "code",
   "execution_count": 107,
   "id": "beautiful-spirit",
   "metadata": {},
   "outputs": [],
   "source": [
    "import matplotlib.pyplot as plt\n",
    "import numpy as np\n",
    "\n",
    "plt.style.use(\"default\")"
   ]
  },
  {
   "cell_type": "code",
   "execution_count": null,
   "id": "north-astronomy",
   "metadata": {},
   "outputs": [],
   "source": [
    "rng = np.random.RandomState(0)\n",
    "x = np.linspace(0, 10, 250)\n",
    "y = np.cumsum(rng.randn(250, 6), 0)\n",
    "print(x.shape)\n",
    "print(y.shape)"
   ]
  },
  {
   "cell_type": "code",
   "execution_count": null,
   "id": "healthy-words",
   "metadata": {},
   "outputs": [],
   "source": [
    "plt.plot(x, y)\n",
    "plt.legend([\"A\", \"B\", \"C\", \"D\", \"E\", \"F\", \"G\"], ncol=3, loc=\"best\")"
   ]
  },
  {
   "cell_type": "code",
   "execution_count": 110,
   "id": "suited-bunny",
   "metadata": {},
   "outputs": [],
   "source": [
    "import seaborn as sns\n",
    "\n",
    "sns.set_theme()"
   ]
  },
  {
   "cell_type": "code",
   "execution_count": null,
   "id": "genuine-evaluation",
   "metadata": {},
   "outputs": [],
   "source": [
    "plt.plot(x, y)\n",
    "plt.legend([\"A\", \"B\", \"C\", \"D\", \"E\", \"F\", \"G\"], ncol=3, loc=\"best\")"
   ]
  },
  {
   "cell_type": "markdown",
   "id": "blocked-sodium",
   "metadata": {},
   "source": [
    "### Exploring Seaborn Plots\n"
   ]
  },
  {
   "cell_type": "code",
   "execution_count": 112,
   "id": "exterior-lindsay",
   "metadata": {},
   "outputs": [],
   "source": [
    "iris = sns.load_dataset(\"iris\")"
   ]
  },
  {
   "cell_type": "code",
   "execution_count": null,
   "id": "exterior-sailing",
   "metadata": {},
   "outputs": [],
   "source": [
    "iris.head()"
   ]
  },
  {
   "cell_type": "code",
   "execution_count": null,
   "id": "afraid-strength",
   "metadata": {},
   "outputs": [],
   "source": [
    "setosa = iris.loc[iris.species == \"setosa\"]\n",
    "virginica = iris.loc[iris.species == \"virginica\"]\n",
    "display(setosa.head())\n",
    "display(virginica.head())"
   ]
  },
  {
   "cell_type": "markdown",
   "id": "american-paradise",
   "metadata": {},
   "source": [
    "### Histogram and Density Plots\n"
   ]
  },
  {
   "cell_type": "code",
   "execution_count": null,
   "id": "meaningful-valve",
   "metadata": {},
   "outputs": [],
   "source": [
    "setosa.sepal_length.plot.hist()"
   ]
  },
  {
   "cell_type": "code",
   "execution_count": null,
   "id": "improved-memory",
   "metadata": {},
   "outputs": [],
   "source": [
    "sns.kdeplot(setosa.sepal_length, fill=True, color=\"r\")"
   ]
  },
  {
   "cell_type": "code",
   "execution_count": null,
   "id": "neither-choir",
   "metadata": {},
   "outputs": [],
   "source": [
    "sns.histplot(iris.sepal_length, kde=True)"
   ]
  },
  {
   "cell_type": "code",
   "execution_count": null,
   "id": "chemical-sucking",
   "metadata": {},
   "outputs": [],
   "source": [
    "sns.histplot(iris.sepal_length, kde=True, color=\"r\")\n",
    "sns.histplot(iris.sepal_width, kde=True, color=\"b\")"
   ]
  },
  {
   "cell_type": "markdown",
   "id": "another-execution",
   "metadata": {},
   "source": [
    "## Two-Dimensional Graphics\n"
   ]
  },
  {
   "cell_type": "code",
   "execution_count": null,
   "id": "sudden-proof",
   "metadata": {},
   "outputs": [],
   "source": [
    "sns.kdeplot(data=iris, x=\"sepal_length\", y=\"sepal_width\")"
   ]
  },
  {
   "cell_type": "code",
   "execution_count": null,
   "id": "auburn-brazilian",
   "metadata": {},
   "outputs": [],
   "source": [
    "sns.kdeplot(data=iris, x=\"sepal_length\", y=\"sepal_width\", fill=True)"
   ]
  },
  {
   "cell_type": "code",
   "execution_count": null,
   "id": "upper-motel",
   "metadata": {},
   "outputs": [],
   "source": [
    "with sns.axes_style(\"white\"):\n",
    "    sns.jointplot(data=iris, x=\"sepal_length\", y=\"sepal_width\", kind=\"kde\")"
   ]
  },
  {
   "cell_type": "code",
   "execution_count": null,
   "id": "incoming-discussion",
   "metadata": {},
   "outputs": [],
   "source": [
    "sns.pairplot(iris, hue=\"species\")"
   ]
  },
  {
   "cell_type": "code",
   "execution_count": 123,
   "id": "retired-noise",
   "metadata": {},
   "outputs": [],
   "source": [
    "tips = sns.load_dataset(\"tips\")"
   ]
  },
  {
   "cell_type": "code",
   "execution_count": null,
   "id": "selected-forwarding",
   "metadata": {},
   "outputs": [],
   "source": [
    "tips.head()"
   ]
  },
  {
   "cell_type": "code",
   "execution_count": 125,
   "id": "featured-promise",
   "metadata": {},
   "outputs": [],
   "source": [
    "tips[\"tip_percent\"] = tips[\"tip\"] * 100 / tips[\"total_bill\"]"
   ]
  },
  {
   "cell_type": "code",
   "execution_count": null,
   "id": "featured-milwaukee",
   "metadata": {},
   "outputs": [],
   "source": [
    "grid = sns.FacetGrid(tips, row=\"smoker\", col=\"time\", margin_titles=True)\n",
    "grid.map(plt.hist, \"tip_percent\", bins=np.linspace(0, 40, 15))"
   ]
  },
  {
   "cell_type": "markdown",
   "id": "cloudy-buffer",
   "metadata": {},
   "source": [
    "## Box Plots\n"
   ]
  },
  {
   "cell_type": "code",
   "execution_count": null,
   "id": "moral-denmark",
   "metadata": {},
   "outputs": [],
   "source": [
    "with sns.axes_style(style=\"ticks\"):\n",
    "    g = sns.catplot(x=\"day\", y=\"total_bill\", data=tips, kind=\"box\")\n",
    "g.set_axis_labels(\"Day\", \"Total Account\")"
   ]
  },
  {
   "cell_type": "code",
   "execution_count": null,
   "id": "going-vertex",
   "metadata": {},
   "outputs": [],
   "source": [
    "sns.jointplot(x=\"total_bill\", y=\"tip\", data=tips, kind=\"reg\")"
   ]
  },
  {
   "cell_type": "markdown",
   "id": "monthly-scale",
   "metadata": {},
   "source": [
    "## Bar Plots\n"
   ]
  },
  {
   "cell_type": "code",
   "execution_count": null,
   "id": "statistical-biography",
   "metadata": {},
   "outputs": [],
   "source": [
    "with sns.axes_style(\"white\"):\n",
    "    g = sns.catplot(x=\"size\", data=tips, aspect=2, kind=\"count\", color=\"steelblue\")\n",
    "    g.set_xticklabels(step=5)"
   ]
  }
 ],
 "metadata": {
  "kernelspec": {
   "display_name": "Python 3",
   "language": "python",
   "name": "python3"
  },
  "language_info": {
   "codemirror_mode": {
    "name": "ipython",
    "version": 3
   },
   "file_extension": ".py",
   "mimetype": "text/x-python",
   "name": "python",
   "nbconvert_exporter": "python",
   "pygments_lexer": "ipython3",
   "version": "3.12.8"
  }
 },
 "nbformat": 4,
 "nbformat_minor": 5
}
