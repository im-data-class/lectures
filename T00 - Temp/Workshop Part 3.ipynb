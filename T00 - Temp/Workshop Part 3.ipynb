{
 "cells": [
  {
   "cell_type": "markdown",
   "metadata": {
    "id": "chjR8QhAT12c"
   },
   "source": [
    "# Visualization"
   ]
  },
  {
   "cell_type": "markdown",
   "metadata": {
    "id": "tlOuBZzET-ie"
   },
   "source": [
    "## Setting up"
   ]
  },
  {
   "cell_type": "code",
   "execution_count": null,
   "metadata": {
    "id": "Ve0aCtVJIOxv"
   },
   "outputs": [],
   "source": [
    "# For mounting drive\n",
    "# from google.colab import drive\n",
    "# drive.mount('/content/drive')"
   ]
  },
  {
   "cell_type": "code",
   "execution_count": null,
   "metadata": {
    "id": "IknggLCD7Bb1"
   },
   "outputs": [],
   "source": [
    "# Load library\n",
    "import pandas as pd\n",
    "import seaborn as sns\n",
    "import matplotlib.pyplot as plt\n",
    "import numpy as np\n",
    "plt.rcParams['figure.figsize'] = [6, 2]\n",
    "from google.colab import data_table\n",
    "data_table.enable_dataframe_formatter()"
   ]
  },
  {
   "cell_type": "code",
   "execution_count": null,
   "metadata": {
    "id": "RMocU0yK7CRE"
   },
   "outputs": [],
   "source": [
    "# Load data\n",
    "demo = pd.read_csv('https://raw.githubusercontent.com/nnnpooh/DA/main/dataset/demo.csv')\n",
    "sale = pd.read_csv('https://raw.githubusercontent.com/nnnpooh/DA/main/dataset/sale.csv')"
   ]
  },
  {
   "cell_type": "markdown",
   "metadata": {
    "id": "UicC2YznUMCf"
   },
   "source": [
    "## Explore raw data"
   ]
  },
  {
   "cell_type": "code",
   "execution_count": null,
   "metadata": {
    "id": "5AAp8j707UdV"
   },
   "outputs": [],
   "source": [
    "sale.head(20)"
   ]
  },
  {
   "cell_type": "code",
   "execution_count": null,
   "metadata": {
    "id": "5wZ1XFk570il"
   },
   "outputs": [],
   "source": [
    "demo.head(20)"
   ]
  },
  {
   "cell_type": "markdown",
   "metadata": {
    "id": "uQh_gx3SUOsq"
   },
   "source": [
    "## Manipulate data"
   ]
  },
  {
   "cell_type": "code",
   "execution_count": null,
   "metadata": {
    "id": "BGnoysCH78xx"
   },
   "outputs": [],
   "source": [
    "# สร้างคอลัมน์ชื่อ Profit\n",
    "sale['Profit'] = sale['Revenue'] - sale['Cost']"
   ]
  },
  {
   "cell_type": "code",
   "execution_count": null,
   "metadata": {
    "id": "IBOGrrq_8Dj9"
   },
   "outputs": [],
   "source": [
    "# สร้างคอลัมน์ชื่อ Customer Age\n",
    "def calAge(age):\n",
    "  if age < 25:\n",
    "    return \"Youth\"\n",
    "  elif age < 35:\n",
    "    return \"Young Adult\"\n",
    "  elif age < 65:\n",
    "    return \"Adult\"\n",
    "  else:\n",
    "    return \"Senior\"\n",
    "\n",
    "sr = sale['Customer Age'].apply(calAge)\n",
    "sale.insert(4, 'Age Group', sr)"
   ]
  },
  {
   "cell_type": "code",
   "execution_count": null,
   "metadata": {
    "id": "N5bXv3rE8F-a"
   },
   "outputs": [],
   "source": [
    "# Check result\n",
    "sale.head(3)"
   ]
  },
  {
   "cell_type": "code",
   "execution_count": null,
   "metadata": {
    "id": "mGmR-rdS8Iuz"
   },
   "outputs": [],
   "source": [
    "# ทำการรวมข้อมูลทั้ง 2 เข้าด้วยกัน (เหมือนการทำ VLOOKUP)\n",
    "df = pd.merge(left=sale, right=demo, how=\"left\", on='Customer ID')\n",
    "df.head(10)"
   ]
  },
  {
   "cell_type": "code",
   "execution_count": null,
   "metadata": {
    "id": "fUW4TEy08M6V"
   },
   "outputs": [],
   "source": [
    "#เช็คคอลัมน์ทั้งหมด\n",
    "df.info()"
   ]
  },
  {
   "cell_type": "markdown",
   "metadata": {
    "id": "5mYFPRwRUxkt"
   },
   "source": [
    "## ค่าทางสถิติ\n",
    "- ค่าเฉลี่ย (`Mean`)\n",
    "- ค่ามัธยฐาน (`Median`)\n",
    "  - ค่ากึ่งกลางของข้อมูลที่ถูกเรียงลําดับแล้ว\n",
    "- ค่าฐานนิยม (`Mode`)\n",
    "  - ค่าข้อมูลที่มีความถี่สูงสุด\n",
    "- ส่วนเบี่ยงเบนมาตรฐาน (`Standard Deviation`)\n",
    "  - บอกถึงการกระจายตัวของข้อมูล\n"
   ]
  },
  {
   "cell_type": "code",
   "execution_count": null,
   "metadata": {
    "id": "qauD1iJ98c9a"
   },
   "outputs": [],
   "source": [
    "# เลือกคอลัมน์ตัวเลข\n",
    "cols_num = ['Customer Age', 'Order Quantity', 'Unit Cost', 'Unit Price', 'Cost', 'Revenue', 'Profit', 'YearlyIncome', 'TotalChildren']"
   ]
  },
  {
   "cell_type": "code",
   "execution_count": null,
   "metadata": {
    "id": "zpnkmCLD9Bg2"
   },
   "outputs": [],
   "source": [
    "# แสดงผลเฉพาะข้อมูลตัวเลข\n",
    "df[cols_num].head()"
   ]
  },
  {
   "cell_type": "code",
   "execution_count": null,
   "metadata": {
    "id": "pOK_YnHu9Coh"
   },
   "outputs": [],
   "source": [
    "# ดูข้อมูลทางสถิติ\n",
    "df[cols_num].describe()"
   ]
  },
  {
   "cell_type": "code",
   "execution_count": null,
   "metadata": {
    "id": "6yR9PREA9dzo"
   },
   "outputs": [],
   "source": [
    "# ดูค่าฐานนิยม (`Mode`)\n",
    "df[cols_num].mode()"
   ]
  },
  {
   "cell_type": "code",
   "execution_count": null,
   "metadata": {
    "id": "PodSJ0xQ9vI4"
   },
   "outputs": [],
   "source": [
    "# ดูค่ามัธยฐาน (`Median`)\n",
    "pd.DataFrame(data=df[cols_num].median().to_dict(), index=[1])"
   ]
  },
  {
   "cell_type": "markdown",
   "metadata": {
    "id": "ZRPyTk_RAQqM"
   },
   "source": [
    "## การพิจารณาการแจกแจงด้วย Histogram"
   ]
  },
  {
   "cell_type": "markdown",
   "metadata": {
    "id": "JiYP54s_WAh-"
   },
   "source": [
    "### กิจกรรม C1\n",
    "- ลองเปลี่ยนค่า `bins`"
   ]
  },
  {
   "cell_type": "code",
   "execution_count": null,
   "metadata": {
    "id": "Ca5dveLj-d-R"
   },
   "outputs": [],
   "source": [
    "for col in cols_num:\n",
    "    plt.figure()\n",
    "    sns.histplot(data=df, x=col, bins=30, kde=True)"
   ]
  },
  {
   "cell_type": "markdown",
   "metadata": {
    "id": "0B0TDm6BLFfj"
   },
   "source": [
    "### กิจกรรม\n",
    "  - ลองเปลี่ยนค่า `hue` ด้วยคอลัมน์อื่นๆ\n",
    "    - `Year`\n",
    "    - `Age Group`,\n",
    "    - `Customer Gender`\n",
    "    - `Country`\n",
    "    - `State`\n",
    "    - `Product Category`\n",
    "    - `Sub Category`\n",
    "    - `MaritalStatus`\n",
    "    - `EnglishEducation`\n",
    "    - `HouseOwnerFlag`"
   ]
  },
  {
   "cell_type": "code",
   "execution_count": null,
   "metadata": {
    "id": "7UUOj82TAMf-"
   },
   "outputs": [],
   "source": [
    "for col in cols_num:\n",
    "    plt.figure()\n",
    "    sns.histplot(data=df, x=col, bins=30, hue='Customer Gender', multiple=\"stack\")"
   ]
  },
  {
   "cell_type": "markdown",
   "metadata": {
    "id": "yWbBAOcmXRJJ"
   },
   "source": [
    "## การพิจารณาการแจกแจงด้วย Box Plot"
   ]
  },
  {
   "cell_type": "code",
   "execution_count": null,
   "metadata": {
    "id": "JH9S1GZrAk1n"
   },
   "outputs": [],
   "source": [
    "for col in cols_num:\n",
    "    plt.figure()\n",
    "    sns.boxplot(data=df, x=col)"
   ]
  },
  {
   "cell_type": "code",
   "execution_count": null,
   "metadata": {
    "id": "SG8imW7TLVWd"
   },
   "outputs": [],
   "source": [
    "plt.figure(figsize=(6,6))\n",
    "sns.boxplot(data=df[['Unit Cost', 'Unit Price', 'Cost', 'Revenue', 'Profit']])"
   ]
  },
  {
   "cell_type": "markdown",
   "metadata": {
    "id": "ZL4P5ilwXyUS"
   },
   "source": [
    "### กิจกรรม C2-1\n",
    "  - ลองเปลี่ยนค่า `y` ด้วยคอลัมน์อื่นๆ\n",
    "    - `Customer Age`\n",
    "    - `Order Quantity`\n",
    "    - `Unit Cost`\n",
    "    - `Unit Price`\n",
    "    - `Cost`\n",
    "    - `Revenue`\n",
    "    - `Profit`\n",
    "    - `YearlyIncome`\n",
    "    - `TotalChildren`\n",
    "  - ลองเปลี่ยนค่า `x` ด้วยคอลัมน์อื่นๆ\n",
    "    - `Year`\n",
    "    - `Age Group`,\n",
    "    - `Customer Gender`\n",
    "    - `Country`\n",
    "    - `State`\n",
    "    - `Product Category`\n",
    "    - `Sub Category`\n",
    "    - `MaritalStatus`\n",
    "    - `EnglishEducation`\n",
    "    - `HouseOwnerFlag`"
   ]
  },
  {
   "cell_type": "code",
   "execution_count": null,
   "metadata": {
    "id": "-2fG5h3HLxRN"
   },
   "outputs": [],
   "source": [
    "plt.figure(figsize=(6,6))\n",
    "sns.boxplot(data=df, y=\"Cost\", x=\"Product Category\")"
   ]
  },
  {
   "cell_type": "markdown",
   "metadata": {
    "id": "28koLNmSYk_n"
   },
   "source": [
    "### กิจกรรม C2-2\n",
    "  - ลองเปลี่ยนค่า `y` ด้วยคอลัมน์อื่นๆ\n",
    "    - `Customer Age`,\n",
    "    - `Order Quantity`,\n",
    "    - `Unit Cost`,\n",
    "    - `Unit Price`,\n",
    "    - `Cost`,\n",
    "    - `Revenue`,\n",
    "    - `Profit`,\n",
    "    - `YearlyIncome`,\n",
    "    - `TotalChildren`\n",
    "  - ลองเปลี่ยนค่า `x` และ `hue` ด้วยคอลัมน์อื่นๆ\n",
    "    - `Year`\n",
    "    - `Age Group`,\n",
    "    - `Customer Gender`\n",
    "    - `Country`\n",
    "    - `State`\n",
    "    - `Product Category`\n",
    "    - `Sub Category`\n",
    "    - `MaritalStatus`\n",
    "    - `EnglishEducation`\n",
    "    - `HouseOwnerFlag`"
   ]
  },
  {
   "cell_type": "code",
   "execution_count": null,
   "metadata": {
    "id": "1f1o5IF7NcWt"
   },
   "outputs": [],
   "source": [
    "plt.figure(figsize=(12,6))\n",
    "sns.boxplot(data=df, y=\"Cost\", x=\"Product Category\", hue='Age Group')"
   ]
  },
  {
   "cell_type": "code",
   "execution_count": null,
   "metadata": {
    "id": "e3H-3oRNOAxz"
   },
   "outputs": [],
   "source": [
    "sns.catplot(data=df, x=\"Product Category\", y=\"Cost\",\n",
    "                hue=\"Age Group\", col=\"MaritalStatus\",\n",
    "                kind=\"box\",\n",
    "                height=5, aspect=1);"
   ]
  },
  {
   "cell_type": "markdown",
   "metadata": {
    "id": "rA26FOB1Yzu3"
   },
   "source": [
    "## การพิจารณาการแจกแจงด้วย Violin Plot"
   ]
  },
  {
   "cell_type": "code",
   "execution_count": null,
   "metadata": {
    "id": "QzLwFzM9Oea4"
   },
   "outputs": [],
   "source": [
    "for col in cols_num:\n",
    "    plt.figure()\n",
    "    sns.violinplot(data=df, x=col)"
   ]
  },
  {
   "cell_type": "markdown",
   "metadata": {
    "id": "n4SUMfOLY7mD"
   },
   "source": [
    "### กิจกรรม C3\n",
    "  - ลองเปลี่ยนค่า `y` ด้วยคอลัมน์อื่นๆ\n",
    "    - `Customer Age`\n",
    "    - `Order Quantity`\n",
    "    - `Unit Cost`\n",
    "    - `Unit Price`\n",
    "    - `Cost`\n",
    "    - `Revenue`\n",
    "    - `Profit`\n",
    "    - `YearlyIncome`\n",
    "    - `TotalChildren`\n",
    "  - ลองเปลี่ยนค่า `x` และ `hue` ด้วยคอลัมน์อื่นๆ\n",
    "    - `Year`\n",
    "    - `Age Group`,\n",
    "    - `Customer Gender`\n",
    "    - `Country`\n",
    "    - `State`\n",
    "    - `Product Category`\n",
    "    - `Sub Category`\n",
    "    - `MaritalStatus`\n",
    "    - `EnglishEducation`\n",
    "    - `HouseOwnerFlag`"
   ]
  },
  {
   "cell_type": "code",
   "execution_count": null,
   "metadata": {
    "id": "lECptpwBPBj3"
   },
   "outputs": [],
   "source": [
    "plt.figure(figsize=(6,6))\n",
    "sns.violinplot(data=df, y=\"YearlyIncome\", x=\"Age Group\", hue=\"MaritalStatus\")"
   ]
  },
  {
   "cell_type": "code",
   "execution_count": null,
   "metadata": {
    "id": "JheYvefiPRhh"
   },
   "outputs": [],
   "source": [
    "plt.figure(figsize=(6,6))\n",
    "sns.violinplot(data=df, y=\"YearlyIncome\", x=\"Age Group\", hue=\"MaritalStatus\", split=True)"
   ]
  },
  {
   "cell_type": "code",
   "execution_count": null,
   "metadata": {
    "id": "VK4fkQK6P-xs"
   },
   "outputs": [],
   "source": [
    "sns.catplot(data=df, x=\"Product Category\", y=\"Cost\",\n",
    "                hue=\"Age Group\", col=\"MaritalStatus\",\n",
    "                kind=\"violin\",\n",
    "                height=5, aspect=1);"
   ]
  },
  {
   "cell_type": "markdown",
   "metadata": {
    "id": "hA42lNY8ZKUW"
   },
   "source": [
    "## การพิจารณาการแจกแจงด้วย Boxen Plot"
   ]
  },
  {
   "cell_type": "code",
   "execution_count": null,
   "metadata": {
    "id": "x2vWf0SgQOtV"
   },
   "outputs": [],
   "source": [
    "for col in cols_num:\n",
    "    plt.figure()\n",
    "    sns.boxenplot(data=df, x=col)"
   ]
  },
  {
   "cell_type": "code",
   "execution_count": null,
   "metadata": {
    "id": "2BH-PJ5BQmap"
   },
   "outputs": [],
   "source": [
    "plt.figure(figsize=(6,6))\n",
    "sns.boxenplot(data=df[['Unit Cost', 'Unit Price', 'Cost', 'Revenue', 'Profit']])"
   ]
  },
  {
   "cell_type": "markdown",
   "metadata": {
    "id": "3tSHiyg_ZWLx"
   },
   "source": [
    "### กิจกรรม C4\n",
    "  - ลองเปลี่ยนค่า `y` ด้วยคอลัมน์อื่นๆ\n",
    "    - `Customer Age`\n",
    "    - `Order Quantity`\n",
    "    - `Unit Cost`\n",
    "    - `Unit Price`\n",
    "    - `Cost`\n",
    "    - `Revenue`\n",
    "    - `Profit`\n",
    "    - `YearlyIncome`\n",
    "    - `TotalChildren`\n",
    "  - ลองเปลี่ยนค่า `x` และ `hue` ด้วยคอลัมน์อื่นๆ\n",
    "    - `Year`\n",
    "    - `Age Group`,\n",
    "    - `Customer Gender`\n",
    "    - `Country`\n",
    "    - `State`\n",
    "    - `Product Category`\n",
    "    - `Sub Category`\n",
    "    - `MaritalStatus`\n",
    "    - `EnglishEducation`\n",
    "    - `HouseOwnerFlag`"
   ]
  },
  {
   "cell_type": "code",
   "execution_count": null,
   "metadata": {
    "id": "cR-qtXoPZa0F"
   },
   "outputs": [],
   "source": [
    "plt.figure(figsize=(6,6))\n",
    "sns.boxenplot(data=df, y=\"YearlyIncome\", x=\"Age Group\", hue=\"MaritalStatus\")"
   ]
  },
  {
   "cell_type": "code",
   "execution_count": null,
   "metadata": {
    "id": "l3UwJNznQu81"
   },
   "outputs": [],
   "source": [
    "sns.catplot(data=df, x=\"Product Category\", y=\"Cost\",\n",
    "                hue=\"Age Group\", col=\"MaritalStatus\",\n",
    "                kind=\"boxen\",\n",
    "                height=5, aspect=1);"
   ]
  },
  {
   "cell_type": "markdown",
   "metadata": {
    "id": "M7Edn7xFZiT3"
   },
   "source": [
    "## ค่าสหสัมพันธ์"
   ]
  },
  {
   "cell_type": "code",
   "execution_count": null,
   "metadata": {
    "id": "E9qSmS3yQ0-Q"
   },
   "outputs": [],
   "source": [
    "#คำนวณ\n",
    "corr = df[cols_num].corr()\n",
    "display(corr)"
   ]
  },
  {
   "cell_type": "code",
   "execution_count": null,
   "metadata": {
    "id": "jp99LQ2wRFUZ"
   },
   "outputs": [],
   "source": [
    "# สร้าง Heat Map\n",
    "\n",
    "# Generate a mask for the upper triangle\n",
    "mask = np.triu(np.ones_like(corr, dtype=bool))\n",
    "\n",
    "# Set up the matplotlib figure\n",
    "f, ax = plt.subplots(figsize=(11, 9))\n",
    "\n",
    "# Generate a custom diverging colormap\n",
    "cmap = sns.diverging_palette(230, 20, as_cmap=True)\n",
    "\n",
    "sns.heatmap(corr, mask=mask, cmap=cmap, vmax=.3, center=0,\n",
    "            square=True, linewidths=.5, cbar_kws={\"shrink\": .5})"
   ]
  },
  {
   "cell_type": "code",
   "execution_count": null,
   "metadata": {
    "id": "sWG6abmISZ9Z"
   },
   "outputs": [],
   "source": [
    "# ตรวจสอบ\n",
    "plt.figure(figsize=(8,5))\n",
    "sns.scatterplot(data=df, x='Order Quantity', y=\"Unit Cost\", hue='Product Category')"
   ]
  },
  {
   "cell_type": "markdown",
   "metadata": {
    "id": "niiNPbO1Z5M0"
   },
   "source": [
    "### กิจกรรม C5\n",
    "  - ลองใส่คอลัมน์อื่นๆเข้าไปใน `sns.pairplot(df[[.......]])`\n",
    "    - `Customer Age`\n",
    "    - `Order Quantity`\n",
    "    - `Unit Cost`\n",
    "    - `Unit Price`\n",
    "    - `Cost`\n",
    "    - `Revenue`\n",
    "    - `Profit`\n",
    "    - `YearlyIncome`\n",
    "    - `TotalChildren`"
   ]
  },
  {
   "cell_type": "code",
   "execution_count": null,
   "metadata": {
    "id": "cx-8Ovf_RNhN"
   },
   "outputs": [],
   "source": [
    "sns.pairplot(df[['Cost', 'Revenue', 'Profit']])"
   ]
  },
  {
   "cell_type": "markdown",
   "metadata": {
    "id": "w0r_N9zzKT4H"
   },
   "source": [
    "## การ Save File ลงใน Google Drive"
   ]
  },
  {
   "cell_type": "code",
   "execution_count": null,
   "metadata": {
    "id": "fSCTW_xeKhU5"
   },
   "outputs": [],
   "source": [
    "# Mounting drive\n",
    "from google.colab import drive\n",
    "drive.mount('/content/drive')"
   ]
  },
  {
   "cell_type": "code",
   "execution_count": null,
   "metadata": {
    "id": "p1Hn2i70JMHo"
   },
   "outputs": [],
   "source": [
    "plt.figure(figsize=(6,6))\n",
    "sns.violinplot(data=df, y=\"YearlyIncome\", x=\"Age Group\", hue=\"MaritalStatus\", split=True)\n",
    "plt.savefig('./drive/MyDrive/figure.png', dpi=300, bbox_inches=\"tight\")"
   ]
  },
  {
   "cell_type": "code",
   "execution_count": null,
   "metadata": {
    "id": "A_Ijgy88JP1Z"
   },
   "outputs": [],
   "source": []
  }
 ],
 "metadata": {
  "colab": {
   "collapsed_sections": [
    "tlOuBZzET-ie",
    "UicC2YznUMCf",
    "uQh_gx3SUOsq",
    "5mYFPRwRUxkt",
    "ZRPyTk_RAQqM",
    "JiYP54s_WAh-",
    "0B0TDm6BLFfj",
    "yWbBAOcmXRJJ",
    "ZL4P5ilwXyUS",
    "28koLNmSYk_n",
    "rA26FOB1Yzu3",
    "n4SUMfOLY7mD",
    "hA42lNY8ZKUW",
    "3tSHiyg_ZWLx",
    "M7Edn7xFZiT3",
    "niiNPbO1Z5M0",
    "w0r_N9zzKT4H"
   ],
   "provenance": [
    {
     "file_id": "112oJJNSL49Iez0AmmkUJFZqHgl50lMS3",
     "timestamp": 1697358855246
    },
    {
     "file_id": "1W1mtWBi_5UihwHmALVFdE_oMVHL5VTAv",
     "timestamp": 1637144634915
    }
   ]
  },
  "kernelspec": {
   "display_name": "Python 3",
   "name": "python3"
  },
  "language_info": {
   "name": "python"
  }
 },
 "nbformat": 4,
 "nbformat_minor": 0
}
