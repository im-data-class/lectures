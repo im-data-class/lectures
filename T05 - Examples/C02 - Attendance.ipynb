{
 "cells": [
  {
   "cell_type": "markdown",
   "metadata": {},
   "source": [
    "# Attendance\n"
   ]
  },
  {
   "cell_type": "code",
   "execution_count": 296,
   "metadata": {},
   "outputs": [],
   "source": [
    "import numpy as np\n",
    "import pandas as pd\n",
    "from datetime import datetime, date, time, timedelta"
   ]
  },
  {
   "cell_type": "markdown",
   "metadata": {},
   "source": [
    "## Python date time primer\n"
   ]
  },
  {
   "cell_type": "code",
   "execution_count": null,
   "metadata": {},
   "outputs": [],
   "source": [
    "# Create datetime\n",
    "dt = datetime(year=2024, month=2, day=1, hour=8, minute=52)\n",
    "print(dt)"
   ]
  },
  {
   "cell_type": "code",
   "execution_count": null,
   "metadata": {},
   "outputs": [],
   "source": [
    "# Parse datetime from string\n",
    "dt = datetime.strptime(\"2024-02-01\", \"%Y-%m-%d\")\n",
    "print(dt)"
   ]
  },
  {
   "cell_type": "code",
   "execution_count": null,
   "metadata": {},
   "outputs": [],
   "source": [
    "# Format string\n",
    "dt = datetime(year=2024, month=2, day=1, hour=8, minute=52)\n",
    "dt.strftime(\"%Y/%m/%d %H:%M\")"
   ]
  },
  {
   "cell_type": "code",
   "execution_count": null,
   "metadata": {},
   "outputs": [],
   "source": [
    "# Create date\n",
    "dt_date = date(year=2024, month=2, day=1)\n",
    "print(dt_date)"
   ]
  },
  {
   "cell_type": "code",
   "execution_count": null,
   "metadata": {},
   "outputs": [],
   "source": [
    "# Create time\n",
    "dt_time = time(hour=7, minute=0)\n",
    "print(dt_time)"
   ]
  },
  {
   "cell_type": "code",
   "execution_count": null,
   "metadata": {},
   "outputs": [],
   "source": [
    "# Time delta\n",
    "td = timedelta(days=1)\n",
    "print(td)\n",
    "print(td.total_seconds())"
   ]
  },
  {
   "cell_type": "code",
   "execution_count": null,
   "metadata": {},
   "outputs": [],
   "source": [
    "dt = datetime(2024, 2, 1) + timedelta(days=1)\n",
    "print(dt)"
   ]
  },
  {
   "cell_type": "code",
   "execution_count": null,
   "metadata": {},
   "outputs": [],
   "source": [
    "# Subtract time\n",
    "# https://stackoverflow.com/a/49528739\n",
    "enter = time(hour=1)  # Example enter time\n",
    "exit = time(hour=2)  # Example start time\n",
    "enter_delta = timedelta(hours=enter.hour, minutes=enter.minute, seconds=enter.second)\n",
    "exit_delta = timedelta(hours=exit.hour, minutes=exit.minute, seconds=exit.second)\n",
    "difference_delta = exit_delta - enter_delta\n",
    "print(difference_delta.total_seconds() / 60)"
   ]
  },
  {
   "cell_type": "markdown",
   "metadata": {},
   "source": [
    "## Attendance Analysis\n"
   ]
  },
  {
   "cell_type": "code",
   "execution_count": 305,
   "metadata": {},
   "outputs": [],
   "source": [
    "dfr = pd.read_excel(\"./data/clock_inout.xlsx\")"
   ]
  },
  {
   "cell_type": "code",
   "execution_count": null,
   "metadata": {},
   "outputs": [],
   "source": [
    "dfr.head()"
   ]
  },
  {
   "cell_type": "code",
   "execution_count": null,
   "metadata": {},
   "outputs": [],
   "source": [
    "dfr = dfr[[\"ชื่อ-นามสกุล\", \"Date\", 1, 2, 3]].rename(\n",
    "    columns={\"ชื่อ-นามสกุล\": \"name\", \"Date\": \"date\", 1: \"c1\", 2: \"c2\", 3: \"c3\"}\n",
    ")\n",
    "display(dfr.head(3))"
   ]
  },
  {
   "cell_type": "code",
   "execution_count": null,
   "metadata": {},
   "outputs": [],
   "source": [
    "dfr.duplicated().sum()"
   ]
  },
  {
   "cell_type": "code",
   "execution_count": null,
   "metadata": {},
   "outputs": [],
   "source": [
    "print(dfr.shape)\n",
    "filtNull = dfr[[\"c1\", \"c2\", \"c3\"]].isnull().all(axis=1)\n",
    "dfr = dfr[~filtNull]\n",
    "dfr.shape"
   ]
  },
  {
   "cell_type": "code",
   "execution_count": null,
   "metadata": {},
   "outputs": [],
   "source": [
    "def parseDate(dateStr):\n",
    "    sp = dateStr.split(\"/\")\n",
    "    day = sp[0]\n",
    "    month = sp[1]\n",
    "    year = int(sp[2]) - 543\n",
    "    return pd.to_datetime(f\"{year}/{month}/{day}\", format=\"%Y/%m/%d\")\n",
    "\n",
    "\n",
    "# Convert to datetime\n",
    "dfr[\"date\"] = dfr[\"date\"].apply(parseDate)\n",
    "\n",
    "# Convert to date\n",
    "dfr[\"date\"] = dfr[\"date\"].dt.date\n",
    "\n",
    "# Check\n",
    "print(type(dfr[\"date\"].iloc[0]))"
   ]
  },
  {
   "cell_type": "code",
   "execution_count": 311,
   "metadata": {},
   "outputs": [],
   "source": [
    "# Convert to time\n",
    "dfr[\"c1\"] = pd.to_datetime(dfr[\"c1\"], format=\"%H:%M\").dt.time\n",
    "dfr[\"c2\"] = pd.to_datetime(dfr[\"c2\"], format=\"%H:%M\").dt.time\n",
    "dfr[\"c3\"] = pd.to_datetime(dfr[\"c3\"], format=\"%H:%M\").dt.time\n"
   ]
  },
  {
   "cell_type": "code",
   "execution_count": null,
   "metadata": {},
   "outputs": [],
   "source": [
    "dfr.head()"
   ]
  },
  {
   "cell_type": "code",
   "execution_count": null,
   "metadata": {},
   "outputs": [],
   "source": [
    "# Remove rows with hours outside acceptable range\n",
    "def checkTimeOutsideRange(sr):\n",
    "    return (sr < time(hour=6)) | (sr > time(hour=22))\n",
    "\n",
    "\n",
    "filt1 = checkTimeOutsideRange(dfr[\"c1\"])\n",
    "filt2 = checkTimeOutsideRange(dfr[\"c2\"])\n",
    "filt3 = checkTimeOutsideRange(dfr[\"c3\"])\n",
    "\n",
    "filtOutsideRange = filt1 | filt2 | filt3\n",
    "dfr[filtOutsideRange]"
   ]
  },
  {
   "cell_type": "code",
   "execution_count": 314,
   "metadata": {},
   "outputs": [],
   "source": [
    "dfr = dfr[~filtOutsideRange]"
   ]
  },
  {
   "cell_type": "code",
   "execution_count": 315,
   "metadata": {},
   "outputs": [],
   "source": [
    "dfr[\"incompleteInOut\"] = False\n",
    "filtOneCheckIn = (~dfr[[\"c1\", \"c2\", \"c3\"]].isnull()).sum(axis=1) == 1\n",
    "dfr.loc[filtOneCheckIn, \"incompleteInOut\"] = True"
   ]
  },
  {
   "cell_type": "code",
   "execution_count": 316,
   "metadata": {},
   "outputs": [],
   "source": [
    "# Add time for incomplete check-in/out\n",
    "def addTimeForIncompleteCheckInOut(sr):\n",
    "    dt_time = sr[\"c1\"]\n",
    "    # Determine whether the missing is the morning in or evening out.\n",
    "    if dt_time < time(hour=13):  # 1pm\n",
    "        sr[\"c2\"] = time(hour=18)  # 6pm\n",
    "    else:\n",
    "        sr[\"c2\"] = time(hour=9)  # 9am\n",
    "    return sr\n",
    "\n",
    "\n",
    "filtIIO = dfr[\"incompleteInOut\"]\n",
    "dfr.loc[filtIIO, :] = dfr.loc[filtIIO, :].apply(addTimeForIncompleteCheckInOut, axis=1)"
   ]
  },
  {
   "cell_type": "code",
   "execution_count": null,
   "metadata": {},
   "outputs": [],
   "source": [
    "dfr.loc[filtIIO].head()"
   ]
  },
  {
   "cell_type": "code",
   "execution_count": null,
   "metadata": {},
   "outputs": [],
   "source": [
    "def calculateInOut(row):\n",
    "    times = row.loc[[\"c1\", \"c2\", \"c3\"]].dropna()\n",
    "    res = times.agg([\"min\", \"max\"])\n",
    "    return pd.concat([row, res])\n",
    "\n",
    "\n",
    "dfr = dfr.apply(calculateInOut, axis=1)\n",
    "dfr = dfr.rename(columns={\"min\": \"in\", \"max\": \"out\"})\n",
    "dfr.head()"
   ]
  },
  {
   "cell_type": "code",
   "execution_count": null,
   "metadata": {},
   "outputs": [],
   "source": [
    "dfr[\"isInLate\"] = dfr[\"in\"] > time(hour=9)\n",
    "dfr[\"isOutEarly\"] = dfr[\"out\"] < time(hour=18)\n",
    "dfr.head()"
   ]
  },
  {
   "cell_type": "code",
   "execution_count": null,
   "metadata": {},
   "outputs": [],
   "source": [
    "# You cannot substract time and time. Need to convert to timedelta first.\n",
    "def calInLateMin(dt_time):\n",
    "    deltaIn = timedelta(hours=dt_time.hour, minutes=dt_time.minute)\n",
    "    deltaStart = timedelta(hours=9)\n",
    "    lateMin = (deltaIn - deltaStart).total_seconds() / 60\n",
    "    if lateMin < 0:\n",
    "        lateMin = 0\n",
    "    return lateMin\n",
    "\n",
    "\n",
    "dfr[\"inLateMin\"] = dfr[\"in\"].apply(calInLateMin)\n",
    "dfr.head()"
   ]
  },
  {
   "cell_type": "code",
   "execution_count": null,
   "metadata": {},
   "outputs": [],
   "source": [
    "def calOutEarlyMin(dt_time):\n",
    "    deltaOut = timedelta(hours=dt_time.hour, minutes=dt_time.minute)\n",
    "    deltaEnd = timedelta(hours=18)\n",
    "    earlyMon = (deltaEnd - deltaOut).total_seconds() / 60\n",
    "    if earlyMon < 0:\n",
    "        earlyMon = 0\n",
    "    return earlyMon\n",
    "\n",
    "\n",
    "dfr[\"outEarlyMin\"] = dfr[\"out\"].apply(calOutEarlyMin)\n",
    "dfr.head()"
   ]
  },
  {
   "cell_type": "code",
   "execution_count": null,
   "metadata": {},
   "outputs": [],
   "source": [
    "def calWorkingDuration(row):\n",
    "    timeIn = row[\"in\"]\n",
    "    timeOut = row[\"out\"]\n",
    "    deltaIn = timedelta(hours=timeIn.hour, minutes=timeIn.minute)\n",
    "    deltaOut = timedelta(hours=timeOut.hour, minutes=timeOut.minute)\n",
    "    return (deltaOut - deltaIn).total_seconds() / 60\n",
    "\n",
    "\n",
    "dfr[\"workingDuration\"] = dfr.apply(calWorkingDuration, axis=1)\n",
    "dfr.head()"
   ]
  },
  {
   "cell_type": "code",
   "execution_count": null,
   "metadata": {},
   "outputs": [],
   "source": [
    "dfr[\"overWorkMin\"] = dfr[\"workingDuration\"] - (9 * 60)\n",
    "dfr.head()"
   ]
  },
  {
   "cell_type": "code",
   "execution_count": 324,
   "metadata": {},
   "outputs": [],
   "source": [
    "# Get working days\n",
    "dtRangesMonth = pd.date_range(start=\"2024-02-01\", end=\"2024-02-28\")\n",
    "\n",
    "dtRangesWorking = []\n",
    "for dtr in dtRangesMonth:\n",
    "    if dtr.weekday() <= 5:  # Monday to Saturday\n",
    "        dtRangesWorking.append(dtr.date())"
   ]
  },
  {
   "cell_type": "code",
   "execution_count": 325,
   "metadata": {},
   "outputs": [],
   "source": [
    "def matchWorkingDate(dft):\n",
    "    dfWorking = pd.DataFrame(data={\"working_date\": dtRangesWorking})\n",
    "    dfm = pd.merge(dfWorking, dft, left_on=\"working_date\", right_on=\"date\", how=\"left\")\n",
    "    dfm[\"present\"] = dfm[\"date\"].notnull()\n",
    "    dfm[\"absent\"] = dfm[\"date\"].isnull()\n",
    "    return dfm\n",
    "\n",
    "\n",
    "dfg = dfr.groupby(by=\"name\")\n",
    "dfgm = dfg.apply(matchWorkingDate, include_groups=False)\n",
    "\n",
    "\n",
    "# Testing\n",
    "# dfg = dfr.groupby(by=\"name\")\n",
    "# dft = dfg.get_group(\"รุ้ง\")\n",
    "# dfWorking = pd.DataFrame(data={\"working_date\": dtRangesWorking})\n",
    "# dfm = pd.merge(dfWorking, dft, left_on=\"working_date\", right_on=\"date\", how=\"left\")\n",
    "# name = dfm[\"name\"].value_counts().index[0]\n",
    "# dfm[\"name\"] = name\n",
    "# dfm"
   ]
  },
  {
   "cell_type": "code",
   "execution_count": 326,
   "metadata": {},
   "outputs": [],
   "source": [
    "dfgm = dfgm.reset_index().drop(columns=\"level_1\")"
   ]
  },
  {
   "cell_type": "code",
   "execution_count": null,
   "metadata": {},
   "outputs": [],
   "source": [
    "dfgm.columns"
   ]
  },
  {
   "cell_type": "code",
   "execution_count": null,
   "metadata": {},
   "outputs": [],
   "source": [
    "out1 = (\n",
    "    dfgm.groupby(by=[\"name\"])\n",
    "    .agg(\n",
    "        {\n",
    "            \"present\": \"sum\",\n",
    "            \"absent\": \"sum\",\n",
    "            \"workingDuration\": lambda s: s.mean() / 60,\n",
    "            \"overWorkMin\": \"sum\",\n",
    "            \"incompleteInOut\": \"sum\",\n",
    "            \"inLateMin\": \"sum\",\n",
    "            \"outEarlyMin\": \"sum\",\n",
    "        }\n",
    "    )\n",
    "    .rename(\n",
    "        columns={\n",
    "            \"workingDuration\": \"workingDuration (mean)\",\n",
    "        }\n",
    "    )\n",
    ")\n",
    "display(out1)"
   ]
  },
  {
   "cell_type": "code",
   "execution_count": null,
   "metadata": {},
   "outputs": [],
   "source": [
    "out2 = dfgm.pivot(index=\"name\", columns=\"working_date\", values=\"overWorkMin\")\n",
    "display(out2)"
   ]
  },
  {
   "cell_type": "code",
   "execution_count": null,
   "metadata": {},
   "outputs": [],
   "source": [
    "# Using pivot_table, not pivot\n",
    "out3 = dfgm.pivot_table(\n",
    "    index=\"name\", columns=\"working_date\", values=\"present\", aggfunc=\"sum\"\n",
    ")\n",
    "display(out3)"
   ]
  },
  {
   "cell_type": "code",
   "execution_count": null,
   "metadata": {},
   "outputs": [],
   "source": [
    "# Using pivot_table, not pivot\n",
    "out4 = dfgm.pivot_table(\n",
    "    index=\"name\",\n",
    "    columns=\"working_date\",\n",
    "    values=\"workingDuration\",\n",
    "    aggfunc=lambda s: np.round(s.mean() / 60, 2),\n",
    ")\n",
    "display(out4)"
   ]
  },
  {
   "cell_type": "code",
   "execution_count": 332,
   "metadata": {},
   "outputs": [],
   "source": [
    "# Write dataframes to Excel with multiple sheets\n",
    "names = [\"summary\", \"overWorkMin\", \"present\", \"workingDuration (hour)\"]\n",
    "dataframes = [out1, out2, out3, out4]\n",
    "with pd.ExcelWriter(\"out_attendance.xlsx\") as writer:\n",
    "    for name, frame in zip(names, dataframes):\n",
    "        frame.to_excel(writer, sheet_name=name, index=True)"
   ]
  }
 ],
 "metadata": {
  "kernelspec": {
   "display_name": ".venv",
   "language": "python",
   "name": "python3"
  },
  "language_info": {
   "codemirror_mode": {
    "name": "ipython",
    "version": 3
   },
   "file_extension": ".py",
   "mimetype": "text/x-python",
   "name": "python",
   "nbconvert_exporter": "python",
   "pygments_lexer": "ipython3",
   "version": "3.12.7"
  }
 },
 "nbformat": 4,
 "nbformat_minor": 2
}
