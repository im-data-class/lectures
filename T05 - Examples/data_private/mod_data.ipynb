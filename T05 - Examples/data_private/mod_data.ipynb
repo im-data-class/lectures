{
 "cells": [
  {
   "cell_type": "code",
   "execution_count": 48,
   "metadata": {},
   "outputs": [],
   "source": [
    "import pandas as pd\n",
    "import numpy as np"
   ]
  },
  {
   "cell_type": "code",
   "execution_count": 49,
   "metadata": {},
   "outputs": [],
   "source": [
    "df_roster = pd.read_excel('./roster_ori.xlsx', dtype={\"sec\": str})"
   ]
  },
  {
   "cell_type": "code",
   "execution_count": 50,
   "metadata": {},
   "outputs": [
    {
     "data": {
      "text/html": [
       "<div>\n",
       "<style scoped>\n",
       "    .dataframe tbody tr th:only-of-type {\n",
       "        vertical-align: middle;\n",
       "    }\n",
       "\n",
       "    .dataframe tbody tr th {\n",
       "        vertical-align: top;\n",
       "    }\n",
       "\n",
       "    .dataframe thead th {\n",
       "        text-align: right;\n",
       "    }\n",
       "</style>\n",
       "<table border=\"1\" class=\"dataframe\">\n",
       "  <thead>\n",
       "    <tr style=\"text-align: right;\">\n",
       "      <th></th>\n",
       "      <th>no_reg</th>\n",
       "      <th>sec</th>\n",
       "      <th>student_id</th>\n",
       "      <th>firstname</th>\n",
       "      <th>lastname</th>\n",
       "      <th>email</th>\n",
       "    </tr>\n",
       "  </thead>\n",
       "  <tbody>\n",
       "    <tr>\n",
       "      <th>0</th>\n",
       "      <td>1</td>\n",
       "      <td>001</td>\n",
       "      <td>640610366</td>\n",
       "      <td>มนัสวีย์</td>\n",
       "      <td>ใจวงศ์ศรี</td>\n",
       "      <td>manasawee_j@cmu.ac.th</td>\n",
       "    </tr>\n",
       "    <tr>\n",
       "      <th>1</th>\n",
       "      <td>2</td>\n",
       "      <td>001</td>\n",
       "      <td>650610339</td>\n",
       "      <td>กรกต</td>\n",
       "      <td>แก่นพล</td>\n",
       "      <td>karakot_k@cmu.ac.th</td>\n",
       "    </tr>\n",
       "    <tr>\n",
       "      <th>2</th>\n",
       "      <td>3</td>\n",
       "      <td>001</td>\n",
       "      <td>650610539</td>\n",
       "      <td>ณัฏฐ์</td>\n",
       "      <td>มัลลานู</td>\n",
       "      <td>nut_mallanoo@cmu.ac.th</td>\n",
       "    </tr>\n",
       "    <tr>\n",
       "      <th>3</th>\n",
       "      <td>4</td>\n",
       "      <td>001</td>\n",
       "      <td>660610320</td>\n",
       "      <td>กนกรดา</td>\n",
       "      <td>มณีสม</td>\n",
       "      <td>kanokrada_m@cmu.ac.th</td>\n",
       "    </tr>\n",
       "    <tr>\n",
       "      <th>4</th>\n",
       "      <td>5</td>\n",
       "      <td>001</td>\n",
       "      <td>660610323</td>\n",
       "      <td>กฤติมา</td>\n",
       "      <td>จันทร์ดำ</td>\n",
       "      <td>kittima_c@cmu.ac.th</td>\n",
       "    </tr>\n",
       "  </tbody>\n",
       "</table>\n",
       "</div>"
      ],
      "text/plain": [
       "   no_reg  sec  student_id  firstname   lastname                   email\n",
       "0       1  001   640610366  มนัสวีย์   ใจวงศ์ศรี   manasawee_j@cmu.ac.th\n",
       "1       2  001   650610339      กรกต      แก่นพล     karakot_k@cmu.ac.th\n",
       "2       3  001   650610539     ณัฏฐ์     มัลลานู  nut_mallanoo@cmu.ac.th\n",
       "3       4  001   660610320    กนกรดา       มณีสม   kanokrada_m@cmu.ac.th\n",
       "4       5  001   660610323    กฤติมา    จันทร์ดำ     kittima_c@cmu.ac.th"
      ]
     },
     "execution_count": 50,
     "metadata": {},
     "output_type": "execute_result"
    }
   ],
   "source": [
    "df_roster.head()"
   ]
  },
  {
   "cell_type": "code",
   "execution_count": 51,
   "metadata": {},
   "outputs": [],
   "source": [
    "df_roster[\"firstname\"] = \"First\" + df_roster[\"no_reg\"].astype(str)\n",
    "df_roster[\"lastname\"] = \"Last\" + df_roster[\"no_reg\"].astype(str)\n",
    "df_roster[\"email\"] = \"email\" + df_roster[\"no_reg\"].astype(str) + \"@cmu.ac.th\""
   ]
  },
  {
   "cell_type": "code",
   "execution_count": 52,
   "metadata": {},
   "outputs": [
    {
     "data": {
      "text/plain": [
       "np.int64(708758639)"
      ]
     },
     "execution_count": 52,
     "metadata": {},
     "output_type": "execute_result"
    }
   ],
   "source": [
    "np.floor(np.random.random()*1e9).astype(int)"
   ]
  },
  {
   "cell_type": "code",
   "execution_count": 53,
   "metadata": {},
   "outputs": [
    {
     "data": {
      "text/plain": [
       "np.int64(679729181)"
      ]
     },
     "execution_count": 53,
     "metadata": {},
     "output_type": "execute_result"
    }
   ],
   "source": [
    "def gen_student_id(seed):\n",
    "    np.random.seed(seed)\n",
    "    return np.floor(np.random.uniform(low=100000000, high=999999999)).astype(int)\n",
    "\n",
    "gen_student_id(30)"
   ]
  },
  {
   "cell_type": "code",
   "execution_count": 54,
   "metadata": {},
   "outputs": [],
   "source": [
    "df_roster[\"student_id\"] = df_roster[\"student_id\"].apply(lambda x: gen_student_id(x))"
   ]
  },
  {
   "cell_type": "code",
   "execution_count": 55,
   "metadata": {},
   "outputs": [
    {
     "data": {
      "text/html": [
       "<div>\n",
       "<style scoped>\n",
       "    .dataframe tbody tr th:only-of-type {\n",
       "        vertical-align: middle;\n",
       "    }\n",
       "\n",
       "    .dataframe tbody tr th {\n",
       "        vertical-align: top;\n",
       "    }\n",
       "\n",
       "    .dataframe thead th {\n",
       "        text-align: right;\n",
       "    }\n",
       "</style>\n",
       "<table border=\"1\" class=\"dataframe\">\n",
       "  <thead>\n",
       "    <tr style=\"text-align: right;\">\n",
       "      <th></th>\n",
       "      <th>no_reg</th>\n",
       "      <th>sec</th>\n",
       "      <th>student_id</th>\n",
       "      <th>firstname</th>\n",
       "      <th>lastname</th>\n",
       "      <th>email</th>\n",
       "    </tr>\n",
       "  </thead>\n",
       "  <tbody>\n",
       "    <tr>\n",
       "      <th>0</th>\n",
       "      <td>1</td>\n",
       "      <td>001</td>\n",
       "      <td>910787990</td>\n",
       "      <td>First1</td>\n",
       "      <td>Last1</td>\n",
       "      <td>email1@cmu.ac.th</td>\n",
       "    </tr>\n",
       "    <tr>\n",
       "      <th>1</th>\n",
       "      <td>2</td>\n",
       "      <td>001</td>\n",
       "      <td>877304244</td>\n",
       "      <td>First2</td>\n",
       "      <td>Last2</td>\n",
       "      <td>email2@cmu.ac.th</td>\n",
       "    </tr>\n",
       "    <tr>\n",
       "      <th>2</th>\n",
       "      <td>3</td>\n",
       "      <td>001</td>\n",
       "      <td>288785711</td>\n",
       "      <td>First3</td>\n",
       "      <td>Last3</td>\n",
       "      <td>email3@cmu.ac.th</td>\n",
       "    </tr>\n",
       "    <tr>\n",
       "      <th>3</th>\n",
       "      <td>4</td>\n",
       "      <td>001</td>\n",
       "      <td>129937341</td>\n",
       "      <td>First4</td>\n",
       "      <td>Last4</td>\n",
       "      <td>email4@cmu.ac.th</td>\n",
       "    </tr>\n",
       "    <tr>\n",
       "      <th>4</th>\n",
       "      <td>5</td>\n",
       "      <td>001</td>\n",
       "      <td>105284582</td>\n",
       "      <td>First5</td>\n",
       "      <td>Last5</td>\n",
       "      <td>email5@cmu.ac.th</td>\n",
       "    </tr>\n",
       "  </tbody>\n",
       "</table>\n",
       "</div>"
      ],
      "text/plain": [
       "   no_reg  sec  student_id firstname lastname             email\n",
       "0       1  001   910787990    First1    Last1  email1@cmu.ac.th\n",
       "1       2  001   877304244    First2    Last2  email2@cmu.ac.th\n",
       "2       3  001   288785711    First3    Last3  email3@cmu.ac.th\n",
       "3       4  001   129937341    First4    Last4  email4@cmu.ac.th\n",
       "4       5  001   105284582    First5    Last5  email5@cmu.ac.th"
      ]
     },
     "execution_count": 55,
     "metadata": {},
     "output_type": "execute_result"
    }
   ],
   "source": [
    "df_roster.head()"
   ]
  },
  {
   "cell_type": "code",
   "execution_count": 56,
   "metadata": {},
   "outputs": [],
   "source": [
    "df_roster.to_excel(\"roster.xlsx\", index=False)"
   ]
  },
  {
   "cell_type": "code",
   "execution_count": 57,
   "metadata": {},
   "outputs": [
    {
     "data": {
      "text/html": [
       "<div>\n",
       "<style scoped>\n",
       "    .dataframe tbody tr th:only-of-type {\n",
       "        vertical-align: middle;\n",
       "    }\n",
       "\n",
       "    .dataframe tbody tr th {\n",
       "        vertical-align: top;\n",
       "    }\n",
       "\n",
       "    .dataframe thead th {\n",
       "        text-align: right;\n",
       "    }\n",
       "</style>\n",
       "<table border=\"1\" class=\"dataframe\">\n",
       "  <thead>\n",
       "    <tr style=\"text-align: right;\">\n",
       "      <th></th>\n",
       "      <th>name</th>\n",
       "      <th>canvas_user_id</th>\n",
       "      <th>user_id</th>\n",
       "      <th>login_id</th>\n",
       "      <th>sections</th>\n",
       "      <th>group_name</th>\n",
       "      <th>canvas_group_id</th>\n",
       "      <th>group_id</th>\n",
       "    </tr>\n",
       "  </thead>\n",
       "  <tbody>\n",
       "    <tr>\n",
       "      <th>0</th>\n",
       "      <td>630610340 THANCHANOK BUA-ONG</td>\n",
       "      <td>23962</td>\n",
       "      <td>630610340</td>\n",
       "      <td>thanchanok_bu@cmu.ac.th</td>\n",
       "      <td>2/67-SEC005</td>\n",
       "      <td>NaN</td>\n",
       "      <td>NaN</td>\n",
       "      <td>NaN</td>\n",
       "    </tr>\n",
       "    <tr>\n",
       "      <th>1</th>\n",
       "      <td>640610093 WARISSARA TIANGSAT</td>\n",
       "      <td>9026</td>\n",
       "      <td>640610093</td>\n",
       "      <td>warissara_tiangsat@cmu.ac.th</td>\n",
       "      <td>2/67-SEC006</td>\n",
       "      <td>Sec6: มี 2</td>\n",
       "      <td>22671.0</td>\n",
       "      <td>NaN</td>\n",
       "    </tr>\n",
       "    <tr>\n",
       "      <th>2</th>\n",
       "      <td>640610197 PHURINART HUNWAN</td>\n",
       "      <td>3447</td>\n",
       "      <td>640610197</td>\n",
       "      <td>phurinart_h@cmu.ac.th</td>\n",
       "      <td>2/67-SEC002</td>\n",
       "      <td>NaN</td>\n",
       "      <td>NaN</td>\n",
       "      <td>NaN</td>\n",
       "    </tr>\n",
       "  </tbody>\n",
       "</table>\n",
       "</div>"
      ],
      "text/plain": [
       "                           name  canvas_user_id    user_id  \\\n",
       "0  630610340 THANCHANOK BUA-ONG           23962  630610340   \n",
       "1  640610093 WARISSARA TIANGSAT            9026  640610093   \n",
       "2    640610197 PHURINART HUNWAN            3447  640610197   \n",
       "\n",
       "                       login_id     sections   group_name  canvas_group_id  \\\n",
       "0       thanchanok_bu@cmu.ac.th  2/67-SEC005          NaN              NaN   \n",
       "1  warissara_tiangsat@cmu.ac.th  2/67-SEC006  Sec6: มี 2           22671.0   \n",
       "2         phurinart_h@cmu.ac.th  2/67-SEC002          NaN              NaN   \n",
       "\n",
       "   group_id  \n",
       "0       NaN  \n",
       "1       NaN  \n",
       "2       NaN  "
      ]
     },
     "execution_count": 57,
     "metadata": {},
     "output_type": "execute_result"
    }
   ],
   "source": [
    "df = pd.read_csv(\"./student_groups_ori.csv\")\n",
    "df.head(3)"
   ]
  },
  {
   "cell_type": "code",
   "execution_count": 58,
   "metadata": {},
   "outputs": [
    {
     "data": {
      "text/html": [
       "<div>\n",
       "<style scoped>\n",
       "    .dataframe tbody tr th:only-of-type {\n",
       "        vertical-align: middle;\n",
       "    }\n",
       "\n",
       "    .dataframe tbody tr th {\n",
       "        vertical-align: top;\n",
       "    }\n",
       "\n",
       "    .dataframe thead th {\n",
       "        text-align: right;\n",
       "    }\n",
       "</style>\n",
       "<table border=\"1\" class=\"dataframe\">\n",
       "  <thead>\n",
       "    <tr style=\"text-align: right;\">\n",
       "      <th></th>\n",
       "      <th>user_id</th>\n",
       "      <th>group_name</th>\n",
       "    </tr>\n",
       "  </thead>\n",
       "  <tbody>\n",
       "    <tr>\n",
       "      <th>0</th>\n",
       "      <td>630610340</td>\n",
       "      <td>NaN</td>\n",
       "    </tr>\n",
       "    <tr>\n",
       "      <th>1</th>\n",
       "      <td>640610093</td>\n",
       "      <td>Sec6: มี 2</td>\n",
       "    </tr>\n",
       "    <tr>\n",
       "      <th>2</th>\n",
       "      <td>640610197</td>\n",
       "      <td>NaN</td>\n",
       "    </tr>\n",
       "    <tr>\n",
       "      <th>3</th>\n",
       "      <td>640610366</td>\n",
       "      <td>Sec1: วิดวะมช.รู้จักปะ</td>\n",
       "    </tr>\n",
       "    <tr>\n",
       "      <th>4</th>\n",
       "      <td>640610411</td>\n",
       "      <td>Sec4: eiei</td>\n",
       "    </tr>\n",
       "  </tbody>\n",
       "</table>\n",
       "</div>"
      ],
      "text/plain": [
       "     user_id              group_name\n",
       "0  630610340                     NaN\n",
       "1  640610093             Sec6: มี 2 \n",
       "2  640610197                     NaN\n",
       "3  640610366  Sec1: วิดวะมช.รู้จักปะ\n",
       "4  640610411             Sec4: eiei "
      ]
     },
     "execution_count": 58,
     "metadata": {},
     "output_type": "execute_result"
    }
   ],
   "source": [
    "df = df[[\"user_id\", \"group_name\"]]\n",
    "df.head()"
   ]
  },
  {
   "cell_type": "code",
   "execution_count": 59,
   "metadata": {},
   "outputs": [
    {
     "data": {
      "text/html": [
       "<div>\n",
       "<style scoped>\n",
       "    .dataframe tbody tr th:only-of-type {\n",
       "        vertical-align: middle;\n",
       "    }\n",
       "\n",
       "    .dataframe tbody tr th {\n",
       "        vertical-align: top;\n",
       "    }\n",
       "\n",
       "    .dataframe thead th {\n",
       "        text-align: right;\n",
       "    }\n",
       "</style>\n",
       "<table border=\"1\" class=\"dataframe\">\n",
       "  <thead>\n",
       "    <tr style=\"text-align: right;\">\n",
       "      <th></th>\n",
       "      <th>student_id</th>\n",
       "      <th>group_name</th>\n",
       "    </tr>\n",
       "  </thead>\n",
       "  <tbody>\n",
       "    <tr>\n",
       "      <th>0</th>\n",
       "      <td>878130557</td>\n",
       "      <td>NaN</td>\n",
       "    </tr>\n",
       "    <tr>\n",
       "      <th>1</th>\n",
       "      <td>272210128</td>\n",
       "      <td>Sec6: มี 2</td>\n",
       "    </tr>\n",
       "    <tr>\n",
       "      <th>2</th>\n",
       "      <td>682511317</td>\n",
       "      <td>NaN</td>\n",
       "    </tr>\n",
       "    <tr>\n",
       "      <th>3</th>\n",
       "      <td>910787990</td>\n",
       "      <td>Sec1: วิดวะมช.รู้จักปะ</td>\n",
       "    </tr>\n",
       "    <tr>\n",
       "      <th>4</th>\n",
       "      <td>576447795</td>\n",
       "      <td>Sec4: eiei</td>\n",
       "    </tr>\n",
       "  </tbody>\n",
       "</table>\n",
       "</div>"
      ],
      "text/plain": [
       "   student_id              group_name\n",
       "0   878130557                     NaN\n",
       "1   272210128             Sec6: มี 2 \n",
       "2   682511317                     NaN\n",
       "3   910787990  Sec1: วิดวะมช.รู้จักปะ\n",
       "4   576447795             Sec4: eiei "
      ]
     },
     "execution_count": 59,
     "metadata": {},
     "output_type": "execute_result"
    }
   ],
   "source": [
    "df[\"user_id\"] = df[\"user_id\"].apply(lambda x: gen_student_id(x))\n",
    "df = df.rename(columns={\"user_id\":\"student_id\"})\n",
    "df.head()"
   ]
  },
  {
   "cell_type": "code",
   "execution_count": 60,
   "metadata": {},
   "outputs": [],
   "source": [
    "df.to_excel(\"student_groups.xlsx\", index=False)"
   ]
  },
  {
   "cell_type": "code",
   "execution_count": null,
   "metadata": {},
   "outputs": [],
   "source": []
  }
 ],
 "metadata": {
  "kernelspec": {
   "display_name": "Python 3",
   "language": "python",
   "name": "python3"
  },
  "language_info": {
   "codemirror_mode": {
    "name": "ipython",
    "version": 3
   },
   "file_extension": ".py",
   "mimetype": "text/x-python",
   "name": "python",
   "nbconvert_exporter": "python",
   "pygments_lexer": "ipython3",
   "version": "3.12.8"
  }
 },
 "nbformat": 4,
 "nbformat_minor": 2
}
