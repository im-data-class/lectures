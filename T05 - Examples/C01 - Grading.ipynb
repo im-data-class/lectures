{
 "cells": [
  {
   "cell_type": "markdown",
   "metadata": {},
   "source": [
    "# Grading"
   ]
  },
  {
   "cell_type": "code",
   "execution_count": 26,
   "metadata": {},
   "outputs": [],
   "source": [
    "import pandas as pd"
   ]
  },
  {
   "cell_type": "code",
   "execution_count": null,
   "metadata": {},
   "outputs": [],
   "source": [
    "dfRos = pd.read_excel(\"./data/roster.xlsx\", dtype={\"sec\": str})\n",
    "dfRos.head()"
   ]
  },
  {
   "cell_type": "code",
   "execution_count": null,
   "metadata": {},
   "outputs": [],
   "source": [
    "dfRos.info()"
   ]
  },
  {
   "cell_type": "code",
   "execution_count": null,
   "metadata": {},
   "outputs": [],
   "source": [
    "# Check for duplicates\n",
    "dfRos.duplicated().sum()"
   ]
  },
  {
   "cell_type": "code",
   "execution_count": null,
   "metadata": {},
   "outputs": [],
   "source": [
    "dfGroup = pd.read_excel(\"./data/student_groups.xlsx\")\n",
    "dfGroup.head()"
   ]
  },
  {
   "cell_type": "code",
   "execution_count": null,
   "metadata": {},
   "outputs": [],
   "source": [
    "# I expect null values since not all students form a group.\n",
    "dfGroup.info()"
   ]
  },
  {
   "cell_type": "code",
   "execution_count": null,
   "metadata": {},
   "outputs": [],
   "source": [
    "# Check for duplicates\n",
    "dfGroup.duplicated().sum()"
   ]
  },
  {
   "cell_type": "code",
   "execution_count": 33,
   "metadata": {},
   "outputs": [],
   "source": [
    "# The group name comes from user input which can have multiple spaces and leading and trailing spaces.\n",
    "# I want to clean it.\n",
    "import re\n",
    "\n",
    "\n",
    "def formatGroupName(text):\n",
    "    out = text.strip()\n",
    "    out = re.sub(r\"\\s+\", \" \", out)\n",
    "    return out\n",
    "\n",
    "\n",
    "dfGroup[\"group_name\"] = dfGroup[\"group_name\"].fillna(\"\")\n",
    "dfGroup[\"group_name\"] = dfGroup[\"group_name\"].apply(formatGroupName)"
   ]
  },
  {
   "cell_type": "code",
   "execution_count": null,
   "metadata": {},
   "outputs": [],
   "source": [
    "# Also, I want to make the group key (for merging) from the group name to make merging robust against accidentally modifying group name with space or capitalization.\n",
    "# This logic will be used in the other data as well.\n",
    "def makeGroupKey(text):\n",
    "    out = re.sub(r\"\\s+\", \"\", text)\n",
    "    out = out.lower()\n",
    "    return out\n",
    "\n",
    "\n",
    "dfGroup[\"group_key\"] = dfGroup[\"group_name\"].apply(makeGroupKey)\n",
    "dfGroup[\"group_key\"].value_counts()"
   ]
  },
  {
   "cell_type": "code",
   "execution_count": null,
   "metadata": {},
   "outputs": [],
   "source": [
    "dfrs = dfRos.merge(\n",
    "    dfGroup[[\"student_id\", \"group_name\", \"group_key\"]],\n",
    "    left_on=\"student_id\",\n",
    "    right_on=\"student_id\",\n",
    "    how=\"left\",\n",
    ")\n",
    "dfrs.head()"
   ]
  },
  {
   "cell_type": "code",
   "execution_count": null,
   "metadata": {},
   "outputs": [],
   "source": [
    "# Check if there are any students in section 003, 006, 803, 806 with no group.\n",
    "# Turns out there are.\n",
    "filtSec = dfrs[\"sec\"].isin([\"003\", \"006\", \"803\", \"806\"])\n",
    "dfrmFiltSec = dfrs[filtSec]\n",
    "filtNotNull = dfrmFiltSec[\"group_name\"].isnull()\n",
    "display(dfrmFiltSec[filtNotNull])"
   ]
  },
  {
   "cell_type": "code",
   "execution_count": null,
   "metadata": {},
   "outputs": [],
   "source": [
    "# Find group_name that is not empty\n",
    "filtNotEmpty = dfGroup[\"group_name\"] != \"\"\n",
    "dfGroupNotEmpty = dfGroup.loc[filtNotEmpty] \n",
    "\n",
    "# Find student_id in the group assignment that is not in the roster.\n",
    "filtMismatchId = ~dfGroupNotEmpty[\"student_id\"].isin(dfRos[\"student_id\"])\n",
    "dfGroupNotEmpty[filtMismatchId]"
   ]
  },
  {
   "cell_type": "code",
   "execution_count": null,
   "metadata": {},
   "outputs": [],
   "source": [
    "# Get index of the mismatched id. Let's assume that the problematic id is 943301355.\n",
    "# In reality, I double checked with the student first.\n",
    "filtStudent = dfGroup[\"student_id\"] == 943301355\n",
    "idx = filtStudent[filtStudent].index\n",
    "print(idx)"
   ]
  },
  {
   "cell_type": "code",
   "execution_count": 39,
   "metadata": {},
   "outputs": [],
   "source": [
    "# Update student_id to be the one in the roster.\n",
    "dfGroup.loc[idx, 'student_id'] = 228248149"
   ]
  },
  {
   "cell_type": "code",
   "execution_count": null,
   "metadata": {},
   "outputs": [],
   "source": [
    "# Rerun the merge.\n",
    "dfrs = dfRos.merge(\n",
    "    dfGroup[[\"student_id\", \"group_name\", \"group_key\"]],\n",
    "    left_on=\"student_id\",\n",
    "    right_on=\"student_id\",\n",
    "    how=\"left\",\n",
    ")\n",
    "\n",
    "# Recheck if there are any students in section 003, 006, 803, 806 with no group.\n",
    "# Now there is no problem.\n",
    "filtSec = dfrs[\"sec\"].isin([\"003\", \"006\", \"803\", \"806\"])\n",
    "dfrmFiltSec = dfrs[filtSec]\n",
    "filtNotNull = dfrmFiltSec[\"group_name\"].isnull()\n",
    "display(dfrmFiltSec[filtNotNull])"
   ]
  },
  {
   "cell_type": "code",
   "execution_count": null,
   "metadata": {},
   "outputs": [],
   "source": [
    "# Check if there are any empty group_name.\n",
    "# Turns out there are.\n",
    "filtNotEmpty = dfrmFiltSec[\"group_name\"] == \"\"\n",
    "dfrmFiltSec[filtNotEmpty]"
   ]
  },
  {
   "cell_type": "code",
   "execution_count": 42,
   "metadata": {},
   "outputs": [],
   "source": [
    "# Ask the student about the group name.\n",
    "filtStu = dfGroup[\"student_id\"] == 543046351\n",
    "dfGroup[filtStu]\n",
    "\n",
    "# Update group_name\n",
    "# Again, I need to ask the student first.\n",
    "dfGroup.loc[filtStu, \"group_name\"] = \"Sec3: no 123\"\n",
    "dfGroup.loc[filtStu, \"group_key\"] = \"sec3:no123\""
   ]
  },
  {
   "cell_type": "code",
   "execution_count": null,
   "metadata": {},
   "outputs": [],
   "source": [
    "# Rerun the merge.\n",
    "dfrs = dfRos.merge(\n",
    "    dfGroup[[\"student_id\", \"group_name\", \"group_key\"]],\n",
    "    left_on=\"student_id\",\n",
    "    right_on=\"student_id\",\n",
    "    how=\"left\",\n",
    ")\n",
    "\n",
    "# Recheck if there are any students in section 003, 006, 803, 806 with no group.\n",
    "# Now there is no problem\n",
    "filtSec = dfrs[\"sec\"].isin([\"003\", \"006\", \"803\", \"806\"])\n",
    "dfrmFiltSec = dfrs[filtSec]\n",
    "filtNotNull = dfrmFiltSec[\"group_name\"].isnull()\n",
    "display(dfrmFiltSec[filtNotNull])\n",
    "\n",
    "# Check if there are any empty group_name. Yes!\n",
    "filtNotEmpty = dfrmFiltSec[\"group_name\"] == \"\"\n",
    "display(dfrmFiltSec[filtNotEmpty])"
   ]
  },
  {
   "cell_type": "code",
   "execution_count": null,
   "metadata": {},
   "outputs": [],
   "source": [
    "dfrs.head()"
   ]
  },
  {
   "cell_type": "code",
   "execution_count": null,
   "metadata": {},
   "outputs": [],
   "source": [
    "dfGroupGrade = pd.read_excel(\"./data/group_grade.xlsx\")\n",
    "dfGroupGrade.head(3)"
   ]
  },
  {
   "cell_type": "code",
   "execution_count": null,
   "metadata": {},
   "outputs": [],
   "source": [
    "dfGroupGrade[\"group_name\"] = dfGroupGrade[\"group_name\"].fillna(\"\")\n",
    "dfGroupGrade[\"group_name\"] = dfGroupGrade[\"group_name\"].apply(formatGroupName)\n",
    "dfGroupGrade.head(3)"
   ]
  },
  {
   "cell_type": "code",
   "execution_count": null,
   "metadata": {},
   "outputs": [],
   "source": [
    "dfGroupGrade[\"group_key\"] = dfGroupGrade[\"group_name\"].apply(makeGroupKey)\n",
    "dfGroupGrade[\"group_key\"].value_counts()"
   ]
  },
  {
   "cell_type": "code",
   "execution_count": null,
   "metadata": {},
   "outputs": [],
   "source": [
    "# Notice the use of suffixes to avoid duplicate column names\n",
    "dfStuGrade = pd.merge(dfrs, dfGroupGrade, on=\"group_key\", how=\"left\", suffixes=(\"\",\"_y\"))\n",
    "dfStuGrade = dfStuGrade.drop(columns=[\"sec_y\", \"group_name_y\"])\n",
    "dfStuGrade.head(3)"
   ]
  },
  {
   "cell_type": "code",
   "execution_count": null,
   "metadata": {},
   "outputs": [],
   "source": [
    "# Check if the students in section 003, 006, 803, 806 have the score.\n",
    "filtSec = dfStuGrade[\"sec\"].isin([\"003\", \"006\", \"803\", \"806\"])\n",
    "dfStuGradeFiltSec = dfStuGrade[filtSec]\n",
    "\n",
    "# We see that no row has null value in the \"total\" column. \n",
    "filtNull = dfStuGradeFiltSec[\"total\"].isnull()\n",
    "dfStuGradeFiltSec[filtNull]"
   ]
  },
  {
   "cell_type": "code",
   "execution_count": 50,
   "metadata": {},
   "outputs": [],
   "source": [
    "dfStuGrade.to_excel(\"out_stu_grade.xlsx\", index=False)"
   ]
  }
 ],
 "metadata": {
  "kernelspec": {
   "display_name": "Python 3",
   "language": "python",
   "name": "python3"
  },
  "language_info": {
   "codemirror_mode": {
    "name": "ipython",
    "version": 3
   },
   "file_extension": ".py",
   "mimetype": "text/x-python",
   "name": "python",
   "nbconvert_exporter": "python",
   "pygments_lexer": "ipython3",
   "version": "3.12.8"
  }
 },
 "nbformat": 4,
 "nbformat_minor": 2
}
