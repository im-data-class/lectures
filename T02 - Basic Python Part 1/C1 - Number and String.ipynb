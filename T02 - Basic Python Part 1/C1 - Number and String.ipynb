{
 "cells": [
  {
   "cell_type": "markdown",
   "metadata": {
    "id": "11Igdmb1mJOK"
   },
   "source": [
    "# Variable\n"
   ]
  },
  {
   "cell_type": "markdown",
   "metadata": {
    "id": "bpVeRGQ6Y4ZF"
   },
   "source": [
    "## Numerical Variable\n",
    "\n"
   ]
  },
  {
   "cell_type": "code",
   "execution_count": null,
   "metadata": {},
   "outputs": [],
   "source": [
    "a = 1"
   ]
  },
  {
   "cell_type": "code",
   "execution_count": null,
   "metadata": {},
   "outputs": [],
   "source": [
    "a"
   ]
  },
  {
   "cell_type": "code",
   "execution_count": null,
   "metadata": {
    "colab": {
     "base_uri": "https://localhost:8080/"
    },
    "id": "54lYRlPUl3EA",
    "outputId": "bcb9125f-d81d-405d-e539-d79dfaea8525"
   },
   "outputs": [],
   "source": [
    "a = 1\n",
    "b = 2\n",
    "c = a + b\n",
    "c"
   ]
  },
  {
   "cell_type": "code",
   "execution_count": null,
   "metadata": {},
   "outputs": [],
   "source": [
    "c"
   ]
  },
  {
   "cell_type": "code",
   "execution_count": null,
   "metadata": {},
   "outputs": [],
   "source": [
    "whos"
   ]
  },
  {
   "cell_type": "markdown",
   "metadata": {
    "id": "_SkLpNdDZA-H"
   },
   "source": [
    "## String Variable\n"
   ]
  },
  {
   "cell_type": "markdown",
   "metadata": {
    "id": "tDJA_DbSs5io"
   },
   "source": [
    "1.   `text = \"I'm fine. Thank you.\"`\n",
    "2.   `text = 'This is an \"important\" part.'`"
   ]
  },
  {
   "cell_type": "code",
   "execution_count": null,
   "metadata": {
    "colab": {
     "base_uri": "https://localhost:8080/",
     "height": 35
    },
    "id": "jHmubc0MmcF7",
    "outputId": "65de0a16-4e54-4cdd-ed33-1073f42bcc34"
   },
   "outputs": [],
   "source": [
    "a = 'hi, '\n",
    "b = 'how are you?'\n",
    "c = a + b \n",
    "c"
   ]
  },
  {
   "cell_type": "code",
   "execution_count": null,
   "metadata": {
    "colab": {
     "base_uri": "https://localhost:8080/",
     "height": 35
    },
    "id": "DiIxrLdKmu0y",
    "outputId": "48170ba0-9702-48f8-d61a-222c09a65330"
   },
   "outputs": [],
   "source": [
    "name = 'Winn'\n",
    "money = '10 USD'\n",
    "sentence = name + ' has ' + money + '.'\n",
    "sentence"
   ]
  },
  {
   "cell_type": "markdown",
   "metadata": {
    "id": "l5fGaL8snC_-"
   },
   "source": [
    "# Data Types "
   ]
  },
  {
   "cell_type": "markdown",
   "metadata": {
    "id": "V7_Oc4phnPZM"
   },
   "source": [
    "## Number"
   ]
  },
  {
   "cell_type": "code",
   "execution_count": null,
   "metadata": {
    "colab": {
     "base_uri": "https://localhost:8080/"
    },
    "id": "VfpYi40cnJgR",
    "outputId": "5e0b13f8-70fb-4fd8-f915-490634bcee6f"
   },
   "outputs": [],
   "source": [
    "a = 4 # integer \n",
    "b = 2.0 # float  \n",
    "print(a) \n",
    "print(b)"
   ]
  },
  {
   "cell_type": "code",
   "execution_count": null,
   "metadata": {},
   "outputs": [],
   "source": [
    "type(a)"
   ]
  },
  {
   "cell_type": "code",
   "execution_count": null,
   "metadata": {},
   "outputs": [],
   "source": [
    "type(b)"
   ]
  },
  {
   "cell_type": "code",
   "execution_count": null,
   "metadata": {},
   "outputs": [],
   "source": [
    "c = a + b\n",
    "type(c)"
   ]
  },
  {
   "cell_type": "markdown",
   "metadata": {
    "id": "1D3jrr9qn6Em"
   },
   "source": [
    "### Number operations"
   ]
  },
  {
   "cell_type": "code",
   "execution_count": null,
   "metadata": {
    "colab": {
     "base_uri": "https://localhost:8080/",
     "height": 103
    },
    "id": "BrGSbnArn9TB",
    "outputId": "32c33e07-0a10-42d3-f978-27024534472f"
   },
   "outputs": [],
   "source": [
    "print(a+b)\n",
    "print(a*b)\n",
    "print(a/b)\n",
    "print(a**b)\n",
    "print(a**(1/b)) "
   ]
  },
  {
   "cell_type": "code",
   "execution_count": null,
   "metadata": {
    "colab": {
     "base_uri": "https://localhost:8080/",
     "height": 34
    },
    "id": "-73ES_Z1qel_",
    "outputId": "2696c264-0281-4b31-9f71-eb2de4c9980c"
   },
   "outputs": [],
   "source": [
    "d = 5\n",
    "g = 2\n",
    "d/g "
   ]
  },
  {
   "cell_type": "code",
   "execution_count": null,
   "metadata": {
    "colab": {
     "base_uri": "https://localhost:8080/",
     "height": 34
    },
    "id": "3dyvh6DZv2iM",
    "outputId": "bb69687e-6085-4ba7-ee03-479225655de7"
   },
   "outputs": [],
   "source": [
    "d%g"
   ]
  },
  {
   "cell_type": "code",
   "execution_count": null,
   "metadata": {},
   "outputs": [],
   "source": [
    "5%2"
   ]
  },
  {
   "cell_type": "markdown",
   "metadata": {
    "id": "CvM8Am7Zn0eQ"
   },
   "source": [
    "## String"
   ]
  },
  {
   "cell_type": "markdown",
   "metadata": {
    "id": "OmbVVjq2piJG"
   },
   "source": [
    "### String operations"
   ]
  },
  {
   "cell_type": "code",
   "execution_count": null,
   "metadata": {
    "colab": {
     "base_uri": "https://localhost:8080/",
     "height": 34
    },
    "id": "hTrB98buovNG",
    "outputId": "cbd12e03-c4bb-481a-a2fc-5776467a573d"
   },
   "outputs": [],
   "source": [
    "print(name + ' has ' + money)"
   ]
  },
  {
   "cell_type": "code",
   "execution_count": null,
   "metadata": {
    "colab": {
     "base_uri": "https://localhost:8080/",
     "height": 34
    },
    "id": "kWnabujWpFeN",
    "outputId": "e761bbcc-e24c-4773-8a47-e9a033a079e9"
   },
   "outputs": [],
   "source": [
    "print(name * 2) "
   ]
  },
  {
   "cell_type": "code",
   "execution_count": null,
   "metadata": {
    "colab": {
     "base_uri": "https://localhost:8080/",
     "height": 51
    },
    "id": "WRpFPXpph5PA",
    "outputId": "64f24db9-9d9e-4f17-8224-ebb4ba8c32e9"
   },
   "outputs": [],
   "source": [
    "print('I want you.\\nI need you.\\tI love you.')"
   ]
  },
  {
   "cell_type": "markdown",
   "metadata": {
    "id": "05BvrS3WDpo3"
   },
   "source": [
    "### String-Number Transformation"
   ]
  },
  {
   "cell_type": "code",
   "execution_count": null,
   "metadata": {
    "colab": {
     "base_uri": "https://localhost:8080/",
     "height": 86
    },
    "id": "7CMczwxsDwrQ",
    "outputId": "4dc37769-59bb-4370-93d3-3f55255dca9e"
   },
   "outputs": [],
   "source": [
    "print(a)\n",
    "print(type(a))\n",
    "print(str(a)) # a = '4'\n",
    "print(type(str(a)))"
   ]
  },
  {
   "cell_type": "code",
   "execution_count": null,
   "metadata": {},
   "outputs": [],
   "source": [
    "a = 4\n",
    "print(type(a))\n",
    "c = str(a)\n",
    "print(type(c))"
   ]
  },
  {
   "cell_type": "code",
   "execution_count": null,
   "metadata": {
    "colab": {
     "base_uri": "https://localhost:8080/",
     "height": 69
    },
    "id": "zJW5YLloFA7b",
    "outputId": "497c73f0-1410-42c2-a981-aed68e19e382"
   },
   "outputs": [],
   "source": [
    "p = 3.141592\n",
    "print(p + 5.26) # float + float\n",
    "print(str(p) + str(5.26)) # str + str\n",
    "print(int(p))"
   ]
  },
  {
   "cell_type": "markdown",
   "metadata": {
    "id": "94LpiwuQJTgG"
   },
   "source": [
    "### Printing with string and number"
   ]
  },
  {
   "cell_type": "markdown",
   "metadata": {},
   "source": [
    "#### 1) `,`"
   ]
  },
  {
   "cell_type": "code",
   "execution_count": null,
   "metadata": {},
   "outputs": [],
   "source": [
    "print('There are',a,'cats in this room.')\n",
    "print('There are '+str(a)+' cats in this room.')"
   ]
  },
  {
   "cell_type": "markdown",
   "metadata": {},
   "source": [
    "#### 2) f-string"
   ]
  },
  {
   "cell_type": "code",
   "execution_count": null,
   "metadata": {
    "colab": {
     "base_uri": "https://localhost:8080/",
     "height": 86
    },
    "id": "6AvRJzyZOCjV",
    "outputId": "cd80afb4-4ef5-4493-9089-63ded8b25ddc"
   },
   "outputs": [],
   "source": [
    "print(f\"Approximated Pi value is {p}\")\n",
    "print(f\"Approximated Pi value is {p:.4f}\")\n",
    "print(f\"My name is {name}. I've been here for {a} years\")\n",
    "print(f\"My name is {name}. I've been here for {a:.5f} years\") # a ไม่ต้องแปลงเป็น float ก่อนก็ได้"
   ]
  },
  {
   "cell_type": "markdown",
   "metadata": {
    "id": "3clC3wR6pqIM"
   },
   "source": [
    "### Access character & substrings"
   ]
  },
  {
   "cell_type": "code",
   "execution_count": null,
   "metadata": {
    "colab": {
     "base_uri": "https://localhost:8080/",
     "height": 103
    },
    "id": "3ei6O8vnpvTA",
    "outputId": "0270bca0-48cc-44b0-b844-f15ce768467a"
   },
   "outputs": [],
   "source": [
    "name = 'ABCDEFGHIJKLMNOPQRSTUVWXYZ'\n",
    "print(name[0])\n",
    "print(name[1])\n",
    "print(name[2])\n",
    "print(name[3])\n",
    "print(name[-1])\n",
    "print(name[-2])"
   ]
  },
  {
   "cell_type": "code",
   "execution_count": null,
   "metadata": {
    "colab": {
     "base_uri": "https://localhost:8080/",
     "height": 103
    },
    "id": "s4OR_iDVKz_y",
    "outputId": "0d935d58-2468-4a1f-e0a7-6f508d1d5f6b"
   },
   "outputs": [],
   "source": [
    "mystr = '123456789'\n",
    "print(mystr[0:5]) # เลือกตั้งแต่ตัวที่ 1 ถึงตัวที่ 6 (ตัดตัวสุดท้าย)\n",
    "print(mystr[:5])  # เลือกตั้งแต่ตัวแรก ถึงตัวที่ 6 (ตัดตัวสุดท้าย)\n",
    "print(mystr[1:8]) # เลือกตั้งแต่ตัวที่ 2 ถึงตัวที่ 9 (ตัดตัวสุดท้าย)\n",
    "print(mystr[-6:-1]) # เลือกตั้งแต่ตัวที่ 6 นับจากสุดท้าย ถึงตัวสุดท้าย (ตัดตัวสุดท้าย)\n",
    "print(mystr[-4:]) # เลือกตั้งแต่ตัวที่ 4 นับจากสุดท้าย (ไม่ตัดตัวสุดท้าย)"
   ]
  },
  {
   "cell_type": "code",
   "execution_count": null,
   "metadata": {},
   "outputs": [],
   "source": [
    "mystr = 'Welcome to my class'"
   ]
  },
  {
   "cell_type": "code",
   "execution_count": null,
   "metadata": {
    "colab": {
     "base_uri": "https://localhost:8080/",
     "height": 34
    },
    "id": "xlu5epygLK7-",
    "outputId": "64032255-5cb9-4706-8414-934439ea621f"
   },
   "outputs": [],
   "source": [
    "mystr.split() # แยกข้อความออกจากกันด้วยสิ่งที่อยู่ในวงเล็บของ split หากไม่ใส่จะใช้เว้นวรรค"
   ]
  },
  {
   "cell_type": "code",
   "execution_count": null,
   "metadata": {
    "colab": {
     "base_uri": "https://localhost:8080/",
     "height": 34
    },
    "id": "gDRE-Y6zLVDJ",
    "outputId": "69efbed0-6f79-48bc-83db-e9b7d5d2bfdd"
   },
   "outputs": [],
   "source": [
    "mystr.split('to') # หากใส่ จะหาตัวที่ตรงกันแล้วใช้เป็นตัวแยกข้อความ"
   ]
  },
  {
   "cell_type": "code",
   "execution_count": null,
   "metadata": {
    "colab": {
     "base_uri": "https://localhost:8080/",
     "height": 35
    },
    "id": "OW5pcS1RLRun",
    "outputId": "98ffdfce-3061-4f7f-e087-7be808a4402d"
   },
   "outputs": [],
   "source": [
    "mystr.lower() # ทำให้เป็นตัวเล็ก"
   ]
  },
  {
   "cell_type": "code",
   "execution_count": null,
   "metadata": {
    "colab": {
     "base_uri": "https://localhost:8080/",
     "height": 35
    },
    "id": "7BqGnJXyLiH3",
    "outputId": "8960ea28-8c8f-4c3e-b6ce-d4c517cc6483"
   },
   "outputs": [],
   "source": [
    "mystr.strip() # ตัดเว้นวรรคหน้า-หลัง"
   ]
  },
  {
   "cell_type": "markdown",
   "metadata": {
    "id": "3qhZeGeykTTh"
   },
   "source": [
    "## Boolean and Expressions"
   ]
  },
  {
   "cell_type": "code",
   "execution_count": null,
   "metadata": {},
   "outputs": [],
   "source": [
    "x = 5 # Assignment\n",
    "x == 5 # Question"
   ]
  },
  {
   "cell_type": "code",
   "execution_count": null,
   "metadata": {
    "colab": {
     "base_uri": "https://localhost:8080/",
     "height": 119
    },
    "id": "giEzzFDtjs67",
    "outputId": "f88ab15d-2283-4954-c6f2-a6b961cf2a75"
   },
   "outputs": [],
   "source": [
    "x = 5\n",
    "y = 5\n",
    "print(x == y)\n",
    "print(x != y)\n",
    "print(x < y)\n",
    "print(x <=y)\n",
    "print(x > y)\n",
    "print(x >= y)"
   ]
  },
  {
   "cell_type": "code",
   "execution_count": null,
   "metadata": {},
   "outputs": [],
   "source": [
    "z = True\n",
    "h = False\n",
    "print(z)\n",
    "print(h)"
   ]
  }
 ],
 "metadata": {
  "colab": {
   "collapsed_sections": [],
   "name": "Basic Python Part 1.ipynb",
   "provenance": []
  },
  "interpreter": {
   "hash": "be725e0de8fb3f5fda9b0118bdf797fa9814e28e467c1cce77c5b9910d8a1786"
  },
  "kernelspec": {
   "display_name": "Python 3.8.8 64-bit ('base': conda)",
   "name": "python3"
  },
  "language_info": {
   "codemirror_mode": {
    "name": "ipython",
    "version": 3
   },
   "file_extension": ".py",
   "mimetype": "text/x-python",
   "name": "python",
   "nbconvert_exporter": "python",
   "pygments_lexer": "ipython3",
   "version": "3.11.6"
  }
 },
 "nbformat": 4,
 "nbformat_minor": 1
}
